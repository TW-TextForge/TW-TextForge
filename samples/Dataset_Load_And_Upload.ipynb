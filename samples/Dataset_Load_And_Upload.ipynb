{
 "cells": [
  {
   "cell_type": "markdown",
   "id": "05c256b8",
   "metadata": {},
   "source": [
    "# 資料集載入(CSV)與上傳(Huggice Face Hub)"
   ]
  },
  {
   "cell_type": "markdown",
   "id": "e8f5e2e0",
   "metadata": {},
   "source": [
    "## 套件引入"
   ]
  },
  {
   "cell_type": "code",
   "execution_count": 2,
   "id": "8ce791ed",
   "metadata": {},
   "outputs": [],
   "source": [
    "from datasets import load_dataset\n",
    "from tw_gsat.config.settings import setting\n",
    "from tw_gsat.dataset.format import gen_text_pre_format"
   ]
  },
  {
   "cell_type": "markdown",
   "id": "1130bc3d",
   "metadata": {},
   "source": [
    "## 檔案載入"
   ]
  },
  {
   "cell_type": "code",
   "execution_count": 3,
   "id": "a328e77a",
   "metadata": {},
   "outputs": [],
   "source": [
    "dataset = load_dataset(\"csv\", data_files=\"../data/114/Chinese_General.csv\")"
   ]
  },
  {
   "cell_type": "markdown",
   "id": "3569ac3e",
   "metadata": {},
   "source": [
    "## 資料集資訊顯示"
   ]
  },
  {
   "cell_type": "markdown",
   "id": "44efa58a",
   "metadata": {},
   "source": [
    "### 整體概要資訊"
   ]
  },
  {
   "cell_type": "code",
   "execution_count": 4,
   "id": "817a948f",
   "metadata": {},
   "outputs": [
    {
     "data": {
      "text/plain": [
       "DatasetDict({\n",
       "    train: Dataset({\n",
       "        features: ['id', 'question_type', 'article', 'article_images', 'question', 'question_images', 'A', 'B', 'C', 'D', 'E', 'answer', 'answer_rate', 'grading_criteria'],\n",
       "        num_rows: 36\n",
       "    })\n",
       "})"
      ]
     },
     "execution_count": 4,
     "metadata": {},
     "output_type": "execute_result"
    }
   ],
   "source": [
    "dataset"
   ]
  },
  {
   "cell_type": "markdown",
   "id": "b3d020a2",
   "metadata": {},
   "source": [
    "### 訓練資料集特徵與資料型態"
   ]
  },
  {
   "cell_type": "code",
   "execution_count": 5,
   "id": "79e1f3c8",
   "metadata": {},
   "outputs": [
    {
     "data": {
      "text/plain": [
       "{'id': Value('int64'),\n",
       " 'question_type': Value('string'),\n",
       " 'article': Value('string'),\n",
       " 'article_images': Value('string'),\n",
       " 'question': Value('string'),\n",
       " 'question_images': Value('string'),\n",
       " 'A': Value('string'),\n",
       " 'B': Value('string'),\n",
       " 'C': Value('string'),\n",
       " 'D': Value('string'),\n",
       " 'E': Value('string'),\n",
       " 'answer': Value('string'),\n",
       " 'answer_rate': Value('float64'),\n",
       " 'grading_criteria': Value('string')}"
      ]
     },
     "execution_count": 5,
     "metadata": {},
     "output_type": "execute_result"
    }
   ],
   "source": [
    "dataset[\"train\"].features"
   ]
  },
  {
   "cell_type": "markdown",
   "id": "153ddb87",
   "metadata": {},
   "source": [
    "### 首個訓練資料資訊"
   ]
  },
  {
   "cell_type": "code",
   "execution_count": 6,
   "id": "9af580b9",
   "metadata": {},
   "outputs": [
    {
     "data": {
      "text/plain": [
       "{'id': 1,\n",
       " 'question_type': 'single',\n",
       " 'article': None,\n",
       " 'article_images': None,\n",
       " 'question': '下列「」內的字，讀音前後相同的是：',\n",
       " 'question_images': None,\n",
       " 'A': '「舁」出寶貨／吾生須「臾」',\n",
       " 'B': '切而「啗」之／「諂」詞令色',\n",
       " 'C': '「迤」邐而行／外「弛」內張',\n",
       " 'D': '若分「畛」域／暴「殄」天物',\n",
       " 'E': None,\n",
       " 'answer': 'A',\n",
       " 'answer_rate': 42.0,\n",
       " 'grading_criteria': None}"
      ]
     },
     "execution_count": 6,
     "metadata": {},
     "output_type": "execute_result"
    }
   ],
   "source": [
    "dataset[\"train\"][0]"
   ]
  },
  {
   "cell_type": "markdown",
   "id": "4f8c8e06",
   "metadata": {},
   "source": [
    "## 資料格式化"
   ]
  },
  {
   "cell_type": "code",
   "execution_count": 7,
   "id": "1c14729f",
   "metadata": {},
   "outputs": [],
   "source": [
    "dataset = dataset[\"train\"]\n",
    "dataset = dataset.map(gen_text_pre_format)"
   ]
  },
  {
   "cell_type": "markdown",
   "id": "baac1266",
   "metadata": {},
   "source": [
    "### 顯示格式化後的特徵與資料型態"
   ]
  },
  {
   "cell_type": "code",
   "execution_count": 8,
   "id": "fa65138b",
   "metadata": {},
   "outputs": [
    {
     "data": {
      "text/plain": [
       "{'id': Value('int64'),\n",
       " 'question_type': Value('string'),\n",
       " 'article': Value('string'),\n",
       " 'article_images': Value('string'),\n",
       " 'question': Value('string'),\n",
       " 'question_images': Value('string'),\n",
       " 'A': Value('string'),\n",
       " 'B': Value('string'),\n",
       " 'C': Value('string'),\n",
       " 'D': Value('string'),\n",
       " 'E': Value('string'),\n",
       " 'answer': Value('string'),\n",
       " 'answer_rate': Value('float64'),\n",
       " 'grading_criteria': Value('string'),\n",
       " 'text_pre_format': Value('string')}"
      ]
     },
     "execution_count": 8,
     "metadata": {},
     "output_type": "execute_result"
    }
   ],
   "source": [
    "dataset.features"
   ]
  },
  {
   "cell_type": "markdown",
   "id": "17fe0a6e",
   "metadata": {},
   "source": [
    "### 顯示格式化後的 `text_pre_format` 欄位資訊"
   ]
  },
  {
   "cell_type": "code",
   "execution_count": 9,
   "id": "c4544228",
   "metadata": {},
   "outputs": [
    {
     "name": "stdout",
     "output_type": "stream",
     "text": [
      "題目敘述:\n",
      "下列「」內的字，讀音前後相同的是：\n",
      "題目選項:\n",
      "（A）「舁」出寶貨／吾生須「臾」\n",
      "（B）切而「啗」之／「諂」詞令色\n",
      "（C）「迤」邐而行／外「弛」內張\n",
      "（D）若分「畛」域／暴「殄」天物\n",
      "答案:\n",
      "A\n"
     ]
    }
   ],
   "source": [
    "print(dataset[0][\"text_pre_format\"])"
   ]
  },
  {
   "cell_type": "markdown",
   "id": "ea55fd71",
   "metadata": {},
   "source": [
    "## 資料上傳"
   ]
  },
  {
   "cell_type": "code",
   "execution_count": 10,
   "id": "8828c633",
   "metadata": {},
   "outputs": [
    {
     "data": {
      "application/vnd.jupyter.widget-view+json": {
       "model_id": "ac341219b3ce4a4786be68ad2d819b59",
       "version_major": 2,
       "version_minor": 0
      },
      "text/plain": [
       "Uploading the dataset shards:   0%|          | 0/1 [00:00<?, ? shards/s]"
      ]
     },
     "metadata": {},
     "output_type": "display_data"
    },
    {
     "data": {
      "application/vnd.jupyter.widget-view+json": {
       "model_id": "abb1dafe46b64a379c726405d0488f94",
       "version_major": 2,
       "version_minor": 0
      },
      "text/plain": [
       "Creating parquet from Arrow format:   0%|          | 0/1 [00:00<?, ?ba/s]"
      ]
     },
     "metadata": {},
     "output_type": "display_data"
    },
    {
     "name": "stderr",
     "output_type": "stream",
     "text": [
      "No files have been modified since last commit. Skipping to prevent empty commit.\n"
     ]
    },
    {
     "data": {
      "text/plain": [
       "CommitInfo(commit_url='https://huggingface.co/datasets/TsukiOwO/TW-GSAT-114-Chinese-General/commit/7740ade0a555651bdc0b2efe239eb2ebd0a27cb3', commit_message='Upload dataset', commit_description='', oid='7740ade0a555651bdc0b2efe239eb2ebd0a27cb3', pr_url=None, repo_url=RepoUrl('https://huggingface.co/datasets/TsukiOwO/TW-GSAT-114-Chinese-General', endpoint='https://huggingface.co', repo_type='dataset', repo_id='TsukiOwO/TW-GSAT-114-Chinese-General'), pr_revision=None, pr_num=None)"
      ]
     },
     "execution_count": 10,
     "metadata": {},
     "output_type": "execute_result"
    }
   ],
   "source": [
    "dataset.push_to_hub(\"TsukiOwO/TW-GSAT-114-Chinese-General\", token=setting.hf_token, private=True)"
   ]
  }
 ],
 "metadata": {
  "kernelspec": {
   "display_name": "tw_gsat",
   "language": "python",
   "name": "python3"
  },
  "language_info": {
   "codemirror_mode": {
    "name": "ipython",
    "version": 3
   },
   "file_extension": ".py",
   "mimetype": "text/x-python",
   "name": "python",
   "nbconvert_exporter": "python",
   "pygments_lexer": "ipython3",
   "version": "3.12.10"
  }
 },
 "nbformat": 4,
 "nbformat_minor": 5
}
