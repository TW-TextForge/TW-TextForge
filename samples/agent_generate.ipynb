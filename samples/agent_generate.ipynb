{
 "cells": [
  {
   "cell_type": "markdown",
   "id": "7991352d",
   "metadata": {},
   "source": [
    "# 使用 LLM 生成學測題目的題目解析"
   ]
  },
  {
   "cell_type": "markdown",
   "id": "e5f767a2",
   "metadata": {},
   "source": [
    "## 套件引入與數值初始化"
   ]
  },
  {
   "cell_type": "code",
   "execution_count": 2,
   "id": "e3a2735c",
   "metadata": {},
   "outputs": [],
   "source": [
    "import sys, os\n",
    "sys.path.insert(0, os.path.abspath(\"../src\"))"
   ]
  },
  {
   "cell_type": "code",
   "execution_count": null,
   "id": "70156139",
   "metadata": {},
   "outputs": [],
   "source": [
    "from tw_gsat.prompt.chinese import chinese_prompt\n",
    "chinese_prompt"
   ]
  },
  {
   "cell_type": "code",
   "execution_count": null,
   "id": "32f555c2",
   "metadata": {},
   "outputs": [],
   "source": [
    "from tw_gsat.config.settings import setting"
   ]
  }
 ],
 "metadata": {
  "kernelspec": {
   "display_name": "tw_gsat",
   "language": "python",
   "name": "python3"
  },
  "language_info": {
   "codemirror_mode": {
    "name": "ipython",
    "version": 3
   },
   "file_extension": ".py",
   "mimetype": "text/x-python",
   "name": "python",
   "nbconvert_exporter": "python",
   "pygments_lexer": "ipython3",
   "version": "3.12.10"
  }
 },
 "nbformat": 4,
 "nbformat_minor": 5
}
