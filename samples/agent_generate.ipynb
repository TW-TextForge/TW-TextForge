{
 "cells": [
  {
   "cell_type": "code",
   "execution_count": null,
   "id": "e3a2735c",
   "metadata": {},
   "outputs": [],
   "source": [
    "import sys, os\n",
    "sys.path.insert(0, os.path.abspath(\"../src\"))"
   ]
  },
  {
   "cell_type": "code",
   "execution_count": null,
   "id": "70156139",
   "metadata": {},
   "outputs": [],
   "source": [
    "from tw_gsat.prompt.chinese import chinese_prompt\n",
    "chinese_prompt"
   ]
  }
 ],
 "metadata": {
  "kernelspec": {
   "display_name": "tw_gsat",
   "language": "python",
   "name": "python3"
  },
  "language_info": {
   "codemirror_mode": {
    "name": "ipython",
    "version": 3
   },
   "file_extension": ".py",
   "mimetype": "text/x-python",
   "name": "python",
   "nbconvert_exporter": "python",
   "pygments_lexer": "ipython3",
   "version": "3.12.10"
  }
 },
 "nbformat": 4,
 "nbformat_minor": 5
}
