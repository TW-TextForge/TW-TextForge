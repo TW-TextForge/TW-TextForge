{
 "cells": [
  {
   "cell_type": "code",
   "execution_count": null,
   "id": "648125f3",
   "metadata": {},
   "outputs": [],
   "source": [
    "from datasets import load_dataset\n",
    "import re\n",
    "from dotenv import load_dotenv\n",
    "import os\n",
    "load_dotenv()\n",
    "HF_TOKEN = os.getenv(\"HF_TOKEN\")"
   ]
  },
  {
   "cell_type": "code",
   "execution_count": null,
   "id": "9af58b4d",
   "metadata": {},
   "outputs": [],
   "source": [
    "dataset = load_dataset(\"csv\", data_files=\"114/Chinese-General.csv\")"
   ]
  },
  {
   "cell_type": "code",
   "execution_count": null,
   "id": "806d6b8f",
   "metadata": {},
   "outputs": [],
   "source": [
    "dataset"
   ]
  },
  {
   "cell_type": "code",
   "execution_count": null,
   "id": "b785fdd7",
   "metadata": {},
   "outputs": [],
   "source": [
    "dataset[\"train\"][0]"
   ]
  },
  {
   "cell_type": "code",
   "execution_count": null,
   "id": "fc2a6ceb",
   "metadata": {},
   "outputs": [],
   "source": [
    "dataset[\"train\"].features"
   ]
  },
  {
   "cell_type": "code",
   "execution_count": null,
   "id": "ac5c400d",
   "metadata": {},
   "outputs": [],
   "source": [
    "ds = dataset[\"train\"]\n",
    "\n",
    "# 2) URL 偵測正規\n",
    "url_pat = re.compile(r\"https?://\")\n",
    "\n",
    "# 題目類型\n",
    "type_map = {\n",
    "    \"single\": \"單選題\",\n",
    "    \"multiple\": \"多選題\",\n",
    "    \"filling\": \"填充題\",\n",
    "}\n",
    "\n",
    "def gen_text_pre_format(example):\n",
    "    # 有 URL 就略過\n",
    "    for f in (\"article_images\", \"question_images\", \"answer\"):\n",
    "        v = example.get(f)\n",
    "        if v and url_pat.search(v):\n",
    "            # 這裡回傳空字串，也可以用 None，但用 \"\" 會比較直觀看到「略過」\n",
    "            return {\"text_pre_format\": \"\"}\n",
    "\n",
    "    # 沒 URL 才組 template\n",
    "    parts = []\n",
    "    # 幫你簡化：每次都把 label 與內容 str() 後加進 parts\n",
    "    def add(label, content):\n",
    "        parts.append(label)\n",
    "        parts.append(str(content) if content is not None else \"\")\n",
    "    if example.get(\"article_title\"):\n",
    "        add(\"前述文章:\", example.get(\"article\"))\n",
    "    # add(\"# 題目類型:\", type_map.get(example.get(\"question_type\"), \"未知類型\"))\n",
    "    add(\"題目敘述:\", example.get(\"question\"))\n",
    "\n",
    "    # 單/多選的選項區塊\n",
    "    opts = []\n",
    "    for opt in (\"A\",\"B\",\"C\",\"D\",\"E\"):\n",
    "        val = example.get(opt)\n",
    "        if val:\n",
    "            opts.append(f\"（{opt}）{val}\")\n",
    "    if opts:\n",
    "        parts.append(\"題目選項:\")\n",
    "        parts.extend(opts)\n",
    "\n",
    "    add(\"答案:\", example.get(\"answer\"))\n",
    "    \n",
    "    # 填充題才有的 grading_criteria\n",
    "    # if example.get(\"answer_rate\"):\n",
    "    #     add(\"答題率:\", str(example.get(\"answer_rate\"))+ \"%\")\n",
    "    \n",
    "    # 填充題才有的 grading_criteria\n",
    "    if example.get(\"grading_criteria\"):\n",
    "        add(\"評分標準\", example.get(\"grading_criteria\"))\n",
    "\n",
    "    # 最後 join\n",
    "    text = \"\\n\".join(parts)\n",
    "    return {\"text_pre_format\": text}\n",
    "\n",
    "# 3) map 上去\n",
    "ds = ds.map(gen_text_pre_format)  # batched=False 是預設\n",
    "\n",
    "# 檢查結果\n",
    "print(ds.features)          # 多了一個 text_pre_format: Value(dtype='string', ...)\n",
    "print(ds[:5][\"text_pre_format\"])  # 看前 5 筆的輸出"
   ]
  },
  {
   "cell_type": "code",
   "execution_count": null,
   "id": "a3c61f6a",
   "metadata": {},
   "outputs": [],
   "source": [
    "ds.features"
   ]
  },
  {
   "cell_type": "code",
   "execution_count": null,
   "id": "ead32d37",
   "metadata": {},
   "outputs": [],
   "source": [
    "for idx in range(0, len(ds), 1):\n",
    "    print(ds[idx][\"text_pre_format\"])"
   ]
  },
  {
   "cell_type": "code",
   "execution_count": null,
   "id": "b9806d04",
   "metadata": {},
   "outputs": [],
   "source": [
    "ds.push_to_hub(\"TsukiOwO/TW-GSAT-114-Chinese-General\", token=HF_TOKEN, private=True)"
   ]
  },
  {
   "cell_type": "code",
   "execution_count": null,
   "id": "9106da71",
   "metadata": {},
   "outputs": [],
   "source": [
    "dataset_online = load_dataset(\"TsukiOwO/TW-GSAT-114-Chinese-General\", token=HF_TOKEN)"
   ]
  },
  {
   "cell_type": "code",
   "execution_count": null,
   "id": "d368f35f",
   "metadata": {},
   "outputs": [],
   "source": [
    "dataset_online[\"train\"].features"
   ]
  },
  {
   "cell_type": "code",
   "execution_count": null,
   "id": "cacb439e",
   "metadata": {},
   "outputs": [],
   "source": [
    "print(dataset_online[\"train\"][0][\"text_pre_format\"])"
   ]
  }
 ],
 "metadata": {
  "kernelspec": {
   "display_name": "high",
   "language": "python",
   "name": "python3"
  },
  "language_info": {
   "codemirror_mode": {
    "name": "ipython",
    "version": 3
   },
   "file_extension": ".py",
   "mimetype": "text/x-python",
   "name": "python",
   "nbconvert_exporter": "python",
   "pygments_lexer": "ipython3",
   "version": "3.12.10"
  }
 },
 "nbformat": 4,
 "nbformat_minor": 5
}
