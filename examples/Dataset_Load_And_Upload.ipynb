{
 "cells": [
  {
   "cell_type": "markdown",
   "id": "05c256b8",
   "metadata": {},
   "source": [
    "# 資料集載入(CSV)與上傳(Huggice Face Hub)"
   ]
  },
  {
   "cell_type": "markdown",
   "id": "e8f5e2e0",
   "metadata": {},
   "source": [
    "## 套件引入"
   ]
  },
  {
   "cell_type": "code",
   "execution_count": null,
   "id": "8ce791ed",
   "metadata": {},
   "outputs": [],
   "source": [
    "from datasets import load_dataset\n",
    "from tw_textforge.config.settings import setting\n",
    "from tw_textforge.dataset.format import gen_text_pre_format\n",
    "from tw_textforge.data.GSAT.csv import GSAT_114 # Chinese_General, Social_Studies, Science, MathA, MathB"
   ]
  },
  {
   "cell_type": "markdown",
   "id": "1130bc3d",
   "metadata": {},
   "source": [
    "## 檔案載入"
   ]
  },
  {
   "cell_type": "code",
   "execution_count": null,
   "id": "a328e77a",
   "metadata": {},
   "outputs": [],
   "source": [
    "url = next(item[\"url\"] for item in GSAT_114 if item[\"name\"] == \"Chinese_General\")\n",
    "dataset = load_dataset(\n",
    "    \"csv\",\n",
    "    data_files=url,\n",
    "    download_mode=\"force_redownload\", # 每次都會重新下載 csv 檔案\n",
    ")"
   ]
  },
  {
   "cell_type": "markdown",
   "id": "3569ac3e",
   "metadata": {},
   "source": [
    "## 資料集資訊顯示"
   ]
  },
  {
   "cell_type": "markdown",
   "id": "44efa58a",
   "metadata": {},
   "source": [
    "### 整體概要資訊"
   ]
  },
  {
   "cell_type": "code",
   "execution_count": null,
   "id": "817a948f",
   "metadata": {},
   "outputs": [],
   "source": [
    "dataset"
   ]
  },
  {
   "cell_type": "markdown",
   "id": "b3d020a2",
   "metadata": {},
   "source": [
    "### 訓練資料集特徵與資料型態"
   ]
  },
  {
   "cell_type": "code",
   "execution_count": null,
   "id": "79e1f3c8",
   "metadata": {},
   "outputs": [],
   "source": [
    "dataset[\"train\"].features"
   ]
  },
  {
   "cell_type": "markdown",
   "id": "153ddb87",
   "metadata": {},
   "source": [
    "### 首個訓練資料資訊"
   ]
  },
  {
   "cell_type": "code",
   "execution_count": null,
   "id": "9af580b9",
   "metadata": {},
   "outputs": [],
   "source": [
    "dataset[\"train\"][0]"
   ]
  },
  {
   "cell_type": "markdown",
   "id": "4f8c8e06",
   "metadata": {},
   "source": [
    "## 資料格式化"
   ]
  },
  {
   "cell_type": "code",
   "execution_count": null,
   "id": "1c14729f",
   "metadata": {},
   "outputs": [],
   "source": [
    "dataset = dataset[\"train\"]\n",
    "dataset = dataset.map(gen_text_pre_format, load_from_cache_file=False)"
   ]
  },
  {
   "cell_type": "markdown",
   "id": "baac1266",
   "metadata": {},
   "source": [
    "### 顯示格式化後的特徵與資料型態"
   ]
  },
  {
   "cell_type": "code",
   "execution_count": null,
   "id": "fa65138b",
   "metadata": {},
   "outputs": [],
   "source": [
    "dataset.features"
   ]
  },
  {
   "cell_type": "markdown",
   "id": "17fe0a6e",
   "metadata": {},
   "source": [
    "### 顯示格式化後的 `text_pre_format` 欄位資訊"
   ]
  },
  {
   "cell_type": "code",
   "execution_count": null,
   "id": "c4544228",
   "metadata": {},
   "outputs": [],
   "source": [
    "print(dataset[0][\"text_pre_format\"])"
   ]
  },
  {
   "cell_type": "markdown",
   "id": "ea55fd71",
   "metadata": {},
   "source": [
    "## 資料上傳"
   ]
  },
  {
   "cell_type": "code",
   "execution_count": null,
   "id": "8828c633",
   "metadata": {},
   "outputs": [],
   "source": [
    "dataset.push_to_hub(\"TW-TextForge/TW-GSAT-114-Chinese-General\", token=setting.hf_token, private=True)"
   ]
  }
 ],
 "metadata": {
  "kernelspec": {
   "display_name": "TW-Textforge",
   "language": "python",
   "name": "python3"
  },
  "language_info": {
   "codemirror_mode": {
    "name": "ipython",
    "version": 3
   },
   "file_extension": ".py",
   "mimetype": "text/x-python",
   "name": "python",
   "nbconvert_exporter": "python",
   "pygments_lexer": "ipython3",
   "version": "3.12.10"
  }
 },
 "nbformat": 4,
 "nbformat_minor": 5
}
