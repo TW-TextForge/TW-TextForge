{
 "cells": [
  {
   "cell_type": "markdown",
   "id": "05c256b8",
   "metadata": {},
   "source": [
    "# 資料集載入(CSV)與上傳(Huggice Face Hub)"
   ]
  },
  {
   "cell_type": "markdown",
   "id": "e8f5e2e0",
   "metadata": {},
   "source": [
    "## 套件引入"
   ]
  },
  {
   "cell_type": "code",
   "execution_count": 1,
   "id": "8ce791ed",
   "metadata": {},
   "outputs": [],
   "source": [
    "from datasets import load_dataset\n",
    "from tw_textforge.config.settings import setting\n",
    "from tw_textforge.dataset.format import gen_text_pre_format\n",
    "from tw_textforge.data.GSAT.csv import GSAT_114 # Chinese_General, Social_Studies, Science, MathA, MathB"
   ]
  },
  {
   "cell_type": "markdown",
   "id": "1130bc3d",
   "metadata": {},
   "source": [
    "## 檔案載入"
   ]
  },
  {
   "cell_type": "code",
   "execution_count": 2,
   "id": "a328e77a",
   "metadata": {},
   "outputs": [
    {
     "data": {
      "application/vnd.jupyter.widget-view+json": {
       "model_id": "fa602d4a4fd94109bf423af3b1721bfd",
       "version_major": 2,
       "version_minor": 0
      },
      "text/plain": [
       "Downloading data: 0.00B [00:00, ?B/s]"
      ]
     },
     "metadata": {},
     "output_type": "display_data"
    },
    {
     "data": {
      "application/vnd.jupyter.widget-view+json": {
       "model_id": "543296b0ca17447c83fa515dba6652b1",
       "version_major": 2,
       "version_minor": 0
      },
      "text/plain": [
       "Generating train split:   0%|          | 0/36 [00:00<?, ? examples/s]"
      ]
     },
     "metadata": {},
     "output_type": "display_data"
    }
   ],
   "source": [
    "url = next(item[\"url\"] for item in GSAT_114 if item[\"name\"] == \"Chinese_General\")\n",
    "dataset = load_dataset(\n",
    "    \"csv\",\n",
    "    data_files=url,\n",
    "    download_mode=\"force_redownload\", # 每次都會重新下載 csv 檔案\n",
    ")"
   ]
  },
  {
   "cell_type": "markdown",
   "id": "3569ac3e",
   "metadata": {},
   "source": [
    "## 資料集資訊顯示"
   ]
  },
  {
   "cell_type": "markdown",
   "id": "44efa58a",
   "metadata": {},
   "source": [
    "### 整體概要資訊"
   ]
  },
  {
   "cell_type": "code",
   "execution_count": 3,
   "id": "817a948f",
   "metadata": {},
   "outputs": [
    {
     "data": {
      "text/plain": [
       "DatasetDict({\n",
       "    train: Dataset({\n",
       "        features: ['id', 'question_type', 'article', 'question', 'A', 'B', 'C', 'D', 'E', 'answer', 'answer_rate', 'grading_criteria'],\n",
       "        num_rows: 36\n",
       "    })\n",
       "})"
      ]
     },
     "execution_count": 3,
     "metadata": {},
     "output_type": "execute_result"
    }
   ],
   "source": [
    "dataset"
   ]
  },
  {
   "cell_type": "markdown",
   "id": "b3d020a2",
   "metadata": {},
   "source": [
    "### 訓練資料集特徵與資料型態"
   ]
  },
  {
   "cell_type": "code",
   "execution_count": 4,
   "id": "79e1f3c8",
   "metadata": {},
   "outputs": [
    {
     "data": {
      "text/plain": [
       "{'id': Value('int64'),\n",
       " 'question_type': Value('string'),\n",
       " 'article': Value('string'),\n",
       " 'question': Value('string'),\n",
       " 'A': Value('string'),\n",
       " 'B': Value('string'),\n",
       " 'C': Value('string'),\n",
       " 'D': Value('string'),\n",
       " 'E': Value('string'),\n",
       " 'answer': Value('string'),\n",
       " 'answer_rate': Value('float64'),\n",
       " 'grading_criteria': Value('string')}"
      ]
     },
     "execution_count": 4,
     "metadata": {},
     "output_type": "execute_result"
    }
   ],
   "source": [
    "dataset[\"train\"].features"
   ]
  },
  {
   "cell_type": "markdown",
   "id": "153ddb87",
   "metadata": {},
   "source": [
    "### 首個訓練資料資訊"
   ]
  },
  {
   "cell_type": "code",
   "execution_count": 5,
   "id": "9af580b9",
   "metadata": {},
   "outputs": [
    {
     "data": {
      "text/plain": [
       "{'id': 1,\n",
       " 'question_type': 'single',\n",
       " 'article': None,\n",
       " 'question': '下列「」內的字，讀音前後相同的是：',\n",
       " 'A': '「舁」出寶貨／吾生須「臾」',\n",
       " 'B': '切而「啗」之／「諂」詞令色',\n",
       " 'C': '「迤」邐而行／外「弛」內張',\n",
       " 'D': '若分「畛」域／暴「殄」天物',\n",
       " 'E': None,\n",
       " 'answer': 'A',\n",
       " 'answer_rate': 42.0,\n",
       " 'grading_criteria': None}"
      ]
     },
     "execution_count": 5,
     "metadata": {},
     "output_type": "execute_result"
    }
   ],
   "source": [
    "dataset[\"train\"][0]"
   ]
  },
  {
   "cell_type": "markdown",
   "id": "4f8c8e06",
   "metadata": {},
   "source": [
    "## 資料格式化"
   ]
  },
  {
   "cell_type": "code",
   "execution_count": 6,
   "id": "1c14729f",
   "metadata": {},
   "outputs": [
    {
     "data": {
      "application/vnd.jupyter.widget-view+json": {
       "model_id": "53a5fb03408243b8bf6cc1a60dd9aab6",
       "version_major": 2,
       "version_minor": 0
      },
      "text/plain": [
       "Map:   0%|          | 0/36 [00:00<?, ? examples/s]"
      ]
     },
     "metadata": {},
     "output_type": "display_data"
    }
   ],
   "source": [
    "dataset = dataset[\"train\"]\n",
    "dataset = dataset.map(gen_text_pre_format, load_from_cache_file=False)"
   ]
  },
  {
   "cell_type": "markdown",
   "id": "baac1266",
   "metadata": {},
   "source": [
    "### 顯示格式化後的特徵與資料型態"
   ]
  },
  {
   "cell_type": "code",
   "execution_count": 7,
   "id": "fa65138b",
   "metadata": {},
   "outputs": [
    {
     "data": {
      "text/plain": [
       "{'id': Value('int64'),\n",
       " 'question_type': Value('string'),\n",
       " 'article': Value('string'),\n",
       " 'question': Value('string'),\n",
       " 'A': Value('string'),\n",
       " 'B': Value('string'),\n",
       " 'C': Value('string'),\n",
       " 'D': Value('string'),\n",
       " 'E': Value('string'),\n",
       " 'answer': Value('string'),\n",
       " 'answer_rate': Value('float64'),\n",
       " 'grading_criteria': Value('string'),\n",
       " 'text_pre_format': Value('string')}"
      ]
     },
     "execution_count": 7,
     "metadata": {},
     "output_type": "execute_result"
    }
   ],
   "source": [
    "dataset.features"
   ]
  },
  {
   "cell_type": "markdown",
   "id": "17fe0a6e",
   "metadata": {},
   "source": [
    "### 顯示格式化後的 `text_pre_format` 欄位資訊"
   ]
  },
  {
   "cell_type": "code",
   "execution_count": 8,
   "id": "c4544228",
   "metadata": {},
   "outputs": [
    {
     "name": "stdout",
     "output_type": "stream",
     "text": [
      "題目敘述:\n",
      "下列「」內的字，讀音前後相同的是：\n",
      "題目選項:\n",
      "(A)「舁」出寶貨／吾生須「臾」\n",
      "(B)切而「啗」之／「諂」詞令色\n",
      "(C)「迤」邐而行／外「弛」內張\n",
      "(D)若分「畛」域／暴「殄」天物\n",
      "答案:\n",
      "A\n"
     ]
    }
   ],
   "source": [
    "print(dataset[0][\"text_pre_format\"])"
   ]
  },
  {
   "cell_type": "markdown",
   "id": "ea55fd71",
   "metadata": {},
   "source": [
    "## 資料上傳"
   ]
  },
  {
   "cell_type": "code",
   "execution_count": 9,
   "id": "8828c633",
   "metadata": {},
   "outputs": [
    {
     "ename": "HfHubHTTPError",
     "evalue": "401 Client Error: Unauthorized for url: https://huggingface.co/api/repos/create (Request ID: Root=1-687b49d7-3ce6fb2230553a8b72522b8f;492f39a6-d99e-4b45-aa4f-779db1497c11)\n\nInvalid credentials in Authorization header",
     "output_type": "error",
     "traceback": [
      "\u001b[31m---------------------------------------------------------------------------\u001b[39m",
      "\u001b[31mHTTPError\u001b[39m                                 Traceback (most recent call last)",
      "\u001b[36mFile \u001b[39m\u001b[32m~/workspace/TW-Textforge/.venv/lib/python3.12/site-packages/huggingface_hub/utils/_http.py:409\u001b[39m, in \u001b[36mhf_raise_for_status\u001b[39m\u001b[34m(response, endpoint_name)\u001b[39m\n\u001b[32m    408\u001b[39m \u001b[38;5;28;01mtry\u001b[39;00m:\n\u001b[32m--> \u001b[39m\u001b[32m409\u001b[39m     \u001b[43mresponse\u001b[49m\u001b[43m.\u001b[49m\u001b[43mraise_for_status\u001b[49m\u001b[43m(\u001b[49m\u001b[43m)\u001b[49m\n\u001b[32m    410\u001b[39m \u001b[38;5;28;01mexcept\u001b[39;00m HTTPError \u001b[38;5;28;01mas\u001b[39;00m e:\n",
      "\u001b[36mFile \u001b[39m\u001b[32m~/workspace/TW-Textforge/.venv/lib/python3.12/site-packages/requests/models.py:1026\u001b[39m, in \u001b[36mResponse.raise_for_status\u001b[39m\u001b[34m(self)\u001b[39m\n\u001b[32m   1025\u001b[39m \u001b[38;5;28;01mif\u001b[39;00m http_error_msg:\n\u001b[32m-> \u001b[39m\u001b[32m1026\u001b[39m     \u001b[38;5;28;01mraise\u001b[39;00m HTTPError(http_error_msg, response=\u001b[38;5;28mself\u001b[39m)\n",
      "\u001b[31mHTTPError\u001b[39m: 401 Client Error: Unauthorized for url: https://huggingface.co/api/repos/create",
      "\nThe above exception was the direct cause of the following exception:\n",
      "\u001b[31mHfHubHTTPError\u001b[39m                            Traceback (most recent call last)",
      "\u001b[36mCell\u001b[39m\u001b[36m \u001b[39m\u001b[32mIn[9]\u001b[39m\u001b[32m, line 1\u001b[39m\n\u001b[32m----> \u001b[39m\u001b[32m1\u001b[39m \u001b[43mdataset\u001b[49m\u001b[43m.\u001b[49m\u001b[43mpush_to_hub\u001b[49m\u001b[43m(\u001b[49m\u001b[33;43m\"\u001b[39;49m\u001b[33;43mTW-Textforge/TW-GSAT-114-Chinese-General\u001b[39;49m\u001b[33;43m\"\u001b[39;49m\u001b[43m,\u001b[49m\u001b[43m \u001b[49m\u001b[43mtoken\u001b[49m\u001b[43m=\u001b[49m\u001b[43msetting\u001b[49m\u001b[43m.\u001b[49m\u001b[43mhf_token\u001b[49m\u001b[43m,\u001b[49m\u001b[43m \u001b[49m\u001b[43mprivate\u001b[49m\u001b[43m=\u001b[49m\u001b[38;5;28;43;01mTrue\u001b[39;49;00m\u001b[43m)\u001b[49m\n",
      "\u001b[36mFile \u001b[39m\u001b[32m~/workspace/TW-Textforge/.venv/lib/python3.12/site-packages/datasets/arrow_dataset.py:5761\u001b[39m, in \u001b[36mDataset.push_to_hub\u001b[39m\u001b[34m(self, repo_id, config_name, set_default, split, data_dir, commit_message, commit_description, private, token, revision, create_pr, max_shard_size, num_shards, embed_external_files, num_proc)\u001b[39m\n\u001b[32m   5757\u001b[39m     \u001b[38;5;28;01mraise\u001b[39;00m \u001b[38;5;167;01mValueError\u001b[39;00m(\u001b[33mf\u001b[39m\u001b[33m\"\u001b[39m\u001b[33mSplit name should match \u001b[39m\u001b[33m'\u001b[39m\u001b[38;5;132;01m{\u001b[39;00m_split_re\u001b[38;5;132;01m}\u001b[39;00m\u001b[33m'\u001b[39m\u001b[33m but got \u001b[39m\u001b[33m'\u001b[39m\u001b[38;5;132;01m{\u001b[39;00msplit\u001b[38;5;132;01m}\u001b[39;00m\u001b[33m'\u001b[39m\u001b[33m.\u001b[39m\u001b[33m\"\u001b[39m)\n\u001b[32m   5759\u001b[39m api = HfApi(endpoint=config.HF_ENDPOINT, token=token)\n\u001b[32m-> \u001b[39m\u001b[32m5761\u001b[39m repo_url = \u001b[43mapi\u001b[49m\u001b[43m.\u001b[49m\u001b[43mcreate_repo\u001b[49m\u001b[43m(\u001b[49m\n\u001b[32m   5762\u001b[39m \u001b[43m    \u001b[49m\u001b[43mrepo_id\u001b[49m\u001b[43m,\u001b[49m\n\u001b[32m   5763\u001b[39m \u001b[43m    \u001b[49m\u001b[43mtoken\u001b[49m\u001b[43m=\u001b[49m\u001b[43mtoken\u001b[49m\u001b[43m,\u001b[49m\n\u001b[32m   5764\u001b[39m \u001b[43m    \u001b[49m\u001b[43mrepo_type\u001b[49m\u001b[43m=\u001b[49m\u001b[33;43m\"\u001b[39;49m\u001b[33;43mdataset\u001b[39;49m\u001b[33;43m\"\u001b[39;49m\u001b[43m,\u001b[49m\n\u001b[32m   5765\u001b[39m \u001b[43m    \u001b[49m\u001b[43mprivate\u001b[49m\u001b[43m=\u001b[49m\u001b[43mprivate\u001b[49m\u001b[43m,\u001b[49m\n\u001b[32m   5766\u001b[39m \u001b[43m    \u001b[49m\u001b[43mexist_ok\u001b[49m\u001b[43m=\u001b[49m\u001b[38;5;28;43;01mTrue\u001b[39;49;00m\u001b[43m,\u001b[49m\n\u001b[32m   5767\u001b[39m \u001b[43m\u001b[49m\u001b[43m)\u001b[49m\n\u001b[32m   5768\u001b[39m repo_id = repo_url.repo_id\n\u001b[32m   5770\u001b[39m \u001b[38;5;28;01mif\u001b[39;00m revision \u001b[38;5;129;01mis\u001b[39;00m \u001b[38;5;129;01mnot\u001b[39;00m \u001b[38;5;28;01mNone\u001b[39;00m \u001b[38;5;129;01mand\u001b[39;00m \u001b[38;5;129;01mnot\u001b[39;00m revision.startswith(\u001b[33m\"\u001b[39m\u001b[33mrefs/pr/\u001b[39m\u001b[33m\"\u001b[39m):\n\u001b[32m   5771\u001b[39m     \u001b[38;5;66;03m# We do not call create_branch for a PR reference: 400 Bad Request\u001b[39;00m\n",
      "\u001b[36mFile \u001b[39m\u001b[32m~/workspace/TW-Textforge/.venv/lib/python3.12/site-packages/huggingface_hub/utils/_validators.py:114\u001b[39m, in \u001b[36mvalidate_hf_hub_args.<locals>._inner_fn\u001b[39m\u001b[34m(*args, **kwargs)\u001b[39m\n\u001b[32m    111\u001b[39m \u001b[38;5;28;01mif\u001b[39;00m check_use_auth_token:\n\u001b[32m    112\u001b[39m     kwargs = smoothly_deprecate_use_auth_token(fn_name=fn.\u001b[34m__name__\u001b[39m, has_token=has_token, kwargs=kwargs)\n\u001b[32m--> \u001b[39m\u001b[32m114\u001b[39m \u001b[38;5;28;01mreturn\u001b[39;00m \u001b[43mfn\u001b[49m\u001b[43m(\u001b[49m\u001b[43m*\u001b[49m\u001b[43margs\u001b[49m\u001b[43m,\u001b[49m\u001b[43m \u001b[49m\u001b[43m*\u001b[49m\u001b[43m*\u001b[49m\u001b[43mkwargs\u001b[49m\u001b[43m)\u001b[49m\n",
      "\u001b[36mFile \u001b[39m\u001b[32m~/workspace/TW-Textforge/.venv/lib/python3.12/site-packages/huggingface_hub/hf_api.py:3746\u001b[39m, in \u001b[36mHfApi.create_repo\u001b[39m\u001b[34m(self, repo_id, token, private, repo_type, exist_ok, resource_group_id, space_sdk, space_hardware, space_storage, space_sleep_time, space_secrets, space_variables)\u001b[39m\n\u001b[32m   3743\u001b[39m     \u001b[38;5;28;01mbreak\u001b[39;00m\n\u001b[32m   3745\u001b[39m \u001b[38;5;28;01mtry\u001b[39;00m:\n\u001b[32m-> \u001b[39m\u001b[32m3746\u001b[39m     \u001b[43mhf_raise_for_status\u001b[49m\u001b[43m(\u001b[49m\u001b[43mr\u001b[49m\u001b[43m)\u001b[49m\n\u001b[32m   3747\u001b[39m \u001b[38;5;28;01mexcept\u001b[39;00m HTTPError \u001b[38;5;28;01mas\u001b[39;00m err:\n\u001b[32m   3748\u001b[39m     \u001b[38;5;28;01mif\u001b[39;00m exist_ok \u001b[38;5;129;01mand\u001b[39;00m err.response.status_code == \u001b[32m409\u001b[39m:\n\u001b[32m   3749\u001b[39m         \u001b[38;5;66;03m# Repo already exists and `exist_ok=True`\u001b[39;00m\n",
      "\u001b[36mFile \u001b[39m\u001b[32m~/workspace/TW-Textforge/.venv/lib/python3.12/site-packages/huggingface_hub/utils/_http.py:482\u001b[39m, in \u001b[36mhf_raise_for_status\u001b[39m\u001b[34m(response, endpoint_name)\u001b[39m\n\u001b[32m    478\u001b[39m     \u001b[38;5;28;01mraise\u001b[39;00m _format(HfHubHTTPError, message, response) \u001b[38;5;28;01mfrom\u001b[39;00m\u001b[38;5;250m \u001b[39m\u001b[34;01me\u001b[39;00m\n\u001b[32m    480\u001b[39m \u001b[38;5;66;03m# Convert `HTTPError` into a `HfHubHTTPError` to display request information\u001b[39;00m\n\u001b[32m    481\u001b[39m \u001b[38;5;66;03m# as well (request id and/or server error message)\u001b[39;00m\n\u001b[32m--> \u001b[39m\u001b[32m482\u001b[39m \u001b[38;5;28;01mraise\u001b[39;00m _format(HfHubHTTPError, \u001b[38;5;28mstr\u001b[39m(e), response) \u001b[38;5;28;01mfrom\u001b[39;00m\u001b[38;5;250m \u001b[39m\u001b[34;01me\u001b[39;00m\n",
      "\u001b[31mHfHubHTTPError\u001b[39m: 401 Client Error: Unauthorized for url: https://huggingface.co/api/repos/create (Request ID: Root=1-687b49d7-3ce6fb2230553a8b72522b8f;492f39a6-d99e-4b45-aa4f-779db1497c11)\n\nInvalid credentials in Authorization header"
     ]
    }
   ],
   "source": [
    "dataset.push_to_hub(\"TW-Textforge/TW-GSAT-114-Chinese-General\", token=setting.hf_token, private=True)"
   ]
  }
 ],
 "metadata": {
  "kernelspec": {
   "display_name": "TW-Textforge",
   "language": "python",
   "name": "python3"
  },
  "language_info": {
   "codemirror_mode": {
    "name": "ipython",
    "version": 3
   },
   "file_extension": ".py",
   "mimetype": "text/x-python",
   "name": "python",
   "nbconvert_exporter": "python",
   "pygments_lexer": "ipython3",
   "version": "3.12.10"
  }
 },
 "nbformat": 4,
 "nbformat_minor": 5
}
