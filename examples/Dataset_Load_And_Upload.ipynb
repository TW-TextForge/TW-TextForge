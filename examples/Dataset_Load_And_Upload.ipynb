{
 "cells": [
  {
   "cell_type": "markdown",
   "id": "05c256b8",
   "metadata": {},
   "source": [
    "# 資料集載入(CSV)與上傳(Huggice Face Hub)"
   ]
  },
  {
   "cell_type": "markdown",
   "id": "e8f5e2e0",
   "metadata": {},
   "source": [
    "## 套件引入"
   ]
  },
  {
   "cell_type": "code",
   "execution_count": 1,
   "id": "a1cf392d",
   "metadata": {},
   "outputs": [],
   "source": [
    "import sys, os\n",
    "sys.path.insert(0, os.path.abspath(\"../src\"))"
   ]
  },
  {
   "cell_type": "code",
   "execution_count": 2,
   "id": "8ce791ed",
   "metadata": {},
   "outputs": [],
   "source": [
    "from datasets import load_dataset\n",
    "from tw_textforge.data.GSAT.csv import GSAT_DATA\n",
    "from tw_textforge.config.settings import setting"
   ]
  },
  {
   "cell_type": "markdown",
   "id": "1130bc3d",
   "metadata": {},
   "source": [
    "## 檔案載入"
   ]
  },
  {
   "cell_type": "code",
   "execution_count": 3,
   "id": "a328e77a",
   "metadata": {},
   "outputs": [
    {
     "data": {
      "application/vnd.jupyter.widget-view+json": {
       "model_id": "8de18567c323425fabc040ed84056163",
       "version_major": 2,
       "version_minor": 0
      },
      "text/plain": [
       "Downloading data: 0.00B [00:00, ?B/s]"
      ]
     },
     "metadata": {},
     "output_type": "display_data"
    },
    {
     "data": {
      "application/vnd.jupyter.widget-view+json": {
       "model_id": "870c495857bd4c5188ec321da9851ce4",
       "version_major": 2,
       "version_minor": 0
      },
      "text/plain": [
       "Generating train split:   0%|          | 0/36 [00:00<?, ? examples/s]"
      ]
     },
     "metadata": {},
     "output_type": "display_data"
    }
   ],
   "source": [
    "url = next(item[\"url\"] for item in GSAT_DATA if item[\"name\"] == \"114_國綜\")\n",
    "dataset = load_dataset(\n",
    "    \"csv\",\n",
    "    data_files=url,\n",
    "    download_mode=\"force_redownload\", # 每次都會重新下載 csv 檔案\n",
    ")"
   ]
  },
  {
   "cell_type": "markdown",
   "id": "3569ac3e",
   "metadata": {},
   "source": [
    "## 資料集資訊顯示"
   ]
  },
  {
   "cell_type": "markdown",
   "id": "44efa58a",
   "metadata": {},
   "source": [
    "### 整體概要資訊"
   ]
  },
  {
   "cell_type": "code",
   "execution_count": 4,
   "id": "817a948f",
   "metadata": {},
   "outputs": [
    {
     "data": {
      "text/plain": [
       "DatasetDict({\n",
       "    train: Dataset({\n",
       "        features: ['id', 'question_type', 'article', 'question', 'A', 'B', 'C', 'D', 'E', 'grading_criteria', 'answer', 'answer_rate', 'text_pre_format', 'text_pre_tw_textforge_format'],\n",
       "        num_rows: 36\n",
       "    })\n",
       "})"
      ]
     },
     "execution_count": 4,
     "metadata": {},
     "output_type": "execute_result"
    }
   ],
   "source": [
    "dataset"
   ]
  },
  {
   "cell_type": "markdown",
   "id": "b3d020a2",
   "metadata": {},
   "source": [
    "### 訓練資料集特徵與資料型態"
   ]
  },
  {
   "cell_type": "code",
   "execution_count": 5,
   "id": "79e1f3c8",
   "metadata": {},
   "outputs": [
    {
     "data": {
      "text/plain": [
       "{'id': Value('int64'),\n",
       " 'question_type': Value('string'),\n",
       " 'article': Value('string'),\n",
       " 'question': Value('string'),\n",
       " 'A': Value('string'),\n",
       " 'B': Value('string'),\n",
       " 'C': Value('string'),\n",
       " 'D': Value('string'),\n",
       " 'E': Value('string'),\n",
       " 'grading_criteria': Value('string'),\n",
       " 'answer': Value('string'),\n",
       " 'answer_rate': Value('float64'),\n",
       " 'text_pre_format': Value('string'),\n",
       " 'text_pre_tw_textforge_format': Value('string')}"
      ]
     },
     "execution_count": 5,
     "metadata": {},
     "output_type": "execute_result"
    }
   ],
   "source": [
    "dataset[\"train\"].features"
   ]
  },
  {
   "cell_type": "markdown",
   "id": "153ddb87",
   "metadata": {},
   "source": [
    "### 首個訓練資料資訊"
   ]
  },
  {
   "cell_type": "code",
   "execution_count": 6,
   "id": "9af580b9",
   "metadata": {},
   "outputs": [
    {
     "data": {
      "text/plain": [
       "{'id': 1,\n",
       " 'question_type': 'single',\n",
       " 'article': None,\n",
       " 'question': '下列「」內的字，讀音前後相同的是：',\n",
       " 'A': '「舁」出寶貨／吾生須「臾」',\n",
       " 'B': '切而「啗」之／「諂」詞令色',\n",
       " 'C': '「迤」邐而行／外「弛」內張',\n",
       " 'D': '若分「畛」域／暴「殄」天物',\n",
       " 'E': None,\n",
       " 'grading_criteria': None,\n",
       " 'answer': 'A',\n",
       " 'answer_rate': 42.0,\n",
       " 'text_pre_format': '下列「」內的字，讀音前後相同的是：\\n(A)「舁」出寶貨／吾生須「臾」\\n(B)切而「啗」之／「諂」詞令色\\n(C)「迤」邐而行／外「弛」內張\\n(D)若分「畛」域／暴「殄」天物\\n\\n正確答案：(A)「舁」出寶貨／吾生須「臾」\\n\\n答題率：42%',\n",
       " 'text_pre_tw_textforge_format': '下列「」內的字，讀音前後相同的是：\\n(A)「舁」出寶貨／吾生須「臾」\\n(B)切而「啗」之／「諂」詞令色\\n(C)「迤」邐而行／外「弛」內張\\n(D)若分「畛」域／暴「殄」天物\\n\\n正確答案：(A)「舁」出寶貨／吾生須「臾」'}"
      ]
     },
     "execution_count": 6,
     "metadata": {},
     "output_type": "execute_result"
    }
   ],
   "source": [
    "dataset[\"train\"][0]"
   ]
  },
  {
   "cell_type": "markdown",
   "id": "ea55fd71",
   "metadata": {},
   "source": [
    "## 資料上傳"
   ]
  },
  {
   "cell_type": "code",
   "execution_count": 7,
   "id": "8828c633",
   "metadata": {},
   "outputs": [
    {
     "data": {
      "application/vnd.jupyter.widget-view+json": {
       "model_id": "6629c07ecedc429884039f2cd2d0ed54",
       "version_major": 2,
       "version_minor": 0
      },
      "text/plain": [
       "Uploading the dataset shards:   0%|          | 0/1 [00:00<?, ? shards/s]"
      ]
     },
     "metadata": {},
     "output_type": "display_data"
    },
    {
     "data": {
      "application/vnd.jupyter.widget-view+json": {
       "model_id": "32d00aad646c4800ae30e34fc6f936c2",
       "version_major": 2,
       "version_minor": 0
      },
      "text/plain": [
       "Creating parquet from Arrow format:   0%|          | 0/1 [00:00<?, ?ba/s]"
      ]
     },
     "metadata": {},
     "output_type": "display_data"
    },
    {
     "data": {
      "text/plain": [
       "CommitInfo(commit_url='https://huggingface.co/datasets/TsukiOwO/TW-GSAT-114-Chinese-General/commit/5e6cb9385625728fd795ce183461e30496c1ace3', commit_message='Upload dataset', commit_description='', oid='5e6cb9385625728fd795ce183461e30496c1ace3', pr_url=None, repo_url=RepoUrl('https://huggingface.co/datasets/TsukiOwO/TW-GSAT-114-Chinese-General', endpoint='https://huggingface.co', repo_type='dataset', repo_id='TsukiOwO/TW-GSAT-114-Chinese-General'), pr_revision=None, pr_num=None)"
      ]
     },
     "execution_count": 7,
     "metadata": {},
     "output_type": "execute_result"
    }
   ],
   "source": [
    "dataset.push_to_hub(\"TsukiOwO/TW-GSAT-114-Chinese-General\", token=setting.hf_token, private=False)"
   ]
  }
 ],
 "metadata": {
  "kernelspec": {
   "display_name": "TW-TextForge",
   "language": "python",
   "name": "python3"
  },
  "language_info": {
   "codemirror_mode": {
    "name": "ipython",
    "version": 3
   },
   "file_extension": ".py",
   "mimetype": "text/x-python",
   "name": "python",
   "nbconvert_exporter": "python",
   "pygments_lexer": "ipython3",
   "version": "3.10.12"
  }
 },
 "nbformat": 4,
 "nbformat_minor": 5
}
