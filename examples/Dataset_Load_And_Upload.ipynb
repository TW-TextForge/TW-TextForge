{
 "cells": [
  {
   "cell_type": "markdown",
   "id": "05c256b8",
   "metadata": {},
   "source": [
    "# 資料集載入(CSV)與上傳(Huggice Face Hub)"
   ]
  },
  {
   "cell_type": "markdown",
   "id": "e8f5e2e0",
   "metadata": {},
   "source": [
    "## 套件引入"
   ]
  },
  {
   "cell_type": "code",
   "execution_count": 1,
   "id": "a1cf392d",
   "metadata": {},
   "outputs": [],
   "source": [
    "import sys, os\n",
    "sys.path.insert(0, os.path.abspath(\"../src\"))"
   ]
  },
  {
   "cell_type": "code",
   "execution_count": 2,
   "id": "8ce791ed",
   "metadata": {},
   "outputs": [],
   "source": [
    "from datasets import load_dataset\n",
    "from tw_textforge.config.settings import setting"
   ]
  },
  {
   "cell_type": "markdown",
   "id": "1130bc3d",
   "metadata": {},
   "source": [
    "## 檔案載入"
   ]
  },
  {
   "cell_type": "code",
   "execution_count": 3,
   "id": "a328e77a",
   "metadata": {},
   "outputs": [],
   "source": [
    "dataset = load_dataset(\n",
    "    \"csv\",\n",
    "    data_files=\"../data/TW-TextForge-TestCSVUpload-data.csv\",\n",
    ")"
   ]
  },
  {
   "cell_type": "markdown",
   "id": "3569ac3e",
   "metadata": {},
   "source": [
    "## 資料集資訊顯示"
   ]
  },
  {
   "cell_type": "markdown",
   "id": "44efa58a",
   "metadata": {},
   "source": [
    "### 整體概要資訊"
   ]
  },
  {
   "cell_type": "code",
   "execution_count": 4,
   "id": "817a948f",
   "metadata": {},
   "outputs": [
    {
     "data": {
      "text/plain": [
       "DatasetDict({\n",
       "    train: Dataset({\n",
       "        features: ['id', 'quesiton', 'answer'],\n",
       "        num_rows: 1\n",
       "    })\n",
       "})"
      ]
     },
     "execution_count": 4,
     "metadata": {},
     "output_type": "execute_result"
    }
   ],
   "source": [
    "dataset"
   ]
  },
  {
   "cell_type": "markdown",
   "id": "b3d020a2",
   "metadata": {},
   "source": [
    "### 訓練資料集特徵與資料型態"
   ]
  },
  {
   "cell_type": "code",
   "execution_count": 5,
   "id": "79e1f3c8",
   "metadata": {},
   "outputs": [
    {
     "data": {
      "text/plain": [
       "{'id': Value('int64'), 'quesiton': Value('string'), 'answer': Value('int64')}"
      ]
     },
     "execution_count": 5,
     "metadata": {},
     "output_type": "execute_result"
    }
   ],
   "source": [
    "dataset[\"train\"].features"
   ]
  },
  {
   "cell_type": "markdown",
   "id": "153ddb87",
   "metadata": {},
   "source": [
    "### 首個訓練資料資訊"
   ]
  },
  {
   "cell_type": "code",
   "execution_count": 6,
   "id": "9af580b9",
   "metadata": {},
   "outputs": [
    {
     "data": {
      "text/plain": [
       "{'id': 1, 'quesiton': '1+1=?', 'answer': 2}"
      ]
     },
     "execution_count": 6,
     "metadata": {},
     "output_type": "execute_result"
    }
   ],
   "source": [
    "dataset[\"train\"][0]"
   ]
  },
  {
   "cell_type": "markdown",
   "id": "ea55fd71",
   "metadata": {},
   "source": [
    "## 資料上傳"
   ]
  },
  {
   "cell_type": "code",
   "execution_count": 7,
   "id": "8828c633",
   "metadata": {},
   "outputs": [
    {
     "data": {
      "application/vnd.jupyter.widget-view+json": {
       "model_id": "ed5252ebf78c42569484ce6591ac445b",
       "version_major": 2,
       "version_minor": 0
      },
      "text/plain": [
       "Uploading the dataset shards:   0%|          | 0/1 [00:00<?, ? shards/s]"
      ]
     },
     "metadata": {},
     "output_type": "display_data"
    },
    {
     "data": {
      "application/vnd.jupyter.widget-view+json": {
       "model_id": "b878f08ee7694eb08702a87bb7cab997",
       "version_major": 2,
       "version_minor": 0
      },
      "text/plain": [
       "Creating parquet from Arrow format:   0%|          | 0/1 [00:00<?, ?ba/s]"
      ]
     },
     "metadata": {},
     "output_type": "display_data"
    },
    {
     "data": {
      "text/plain": [
       "CommitInfo(commit_url='https://huggingface.co/datasets/TsukiOwO/TW-TextForge-TestCSVUpload/commit/10ced9ade4fb127b17dff330a4ffc231fcf6fae8', commit_message='Upload dataset', commit_description='', oid='10ced9ade4fb127b17dff330a4ffc231fcf6fae8', pr_url=None, repo_url=RepoUrl('https://huggingface.co/datasets/TsukiOwO/TW-TextForge-TestCSVUpload', endpoint='https://huggingface.co', repo_type='dataset', repo_id='TsukiOwO/TW-TextForge-TestCSVUpload'), pr_revision=None, pr_num=None)"
      ]
     },
     "execution_count": 7,
     "metadata": {},
     "output_type": "execute_result"
    }
   ],
   "source": [
    "dataset.push_to_hub(\"TsukiOwO/TW-TextForge-TestCSVUpload\", token=setting.hf_token, private=False)"
   ]
  }
 ],
 "metadata": {
  "kernelspec": {
   "display_name": "TW-Textforge",
   "language": "python",
   "name": "python3"
  },
  "language_info": {
   "codemirror_mode": {
    "name": "ipython",
    "version": 3
   },
   "file_extension": ".py",
   "mimetype": "text/x-python",
   "name": "python",
   "nbconvert_exporter": "python",
   "pygments_lexer": "ipython3",
   "version": "3.12.10"
  }
 },
 "nbformat": 4,
 "nbformat_minor": 5
}
