{
 "cells": [
  {
   "cell_type": "markdown",
   "id": "7991352d",
   "metadata": {},
   "source": [
    "# LangGrpah 雙代理通用"
   ]
  },
  {
   "cell_type": "markdown",
   "id": "e5f767a2",
   "metadata": {},
   "source": [
    "## 套件引入與數值初始化"
   ]
  },
  {
   "cell_type": "code",
   "execution_count": 1,
   "id": "48da5579",
   "metadata": {},
   "outputs": [],
   "source": [
    "import sys, os\n",
    "sys.path.insert(0, os.path.abspath(\"../src\"))"
   ]
  },
  {
   "cell_type": "code",
   "execution_count": 2,
   "id": "70156139",
   "metadata": {},
   "outputs": [],
   "source": [
    "from tw_textforge.agent.ai_model import AIModel\n",
    "from tw_textforge.agent.printer import pretty_print_messages\n",
    "from tw_textforge.agent.GSAT.chinese import GSATChineseGraph"
   ]
  },
  {
   "cell_type": "code",
   "execution_count": 3,
   "id": "c1e3672c",
   "metadata": {},
   "outputs": [
    {
     "data": {
      "image/png": "[encoded data removed]",
      "text/plain": [
       "<IPython.core.display.Image object>"
      ]
     },
     "metadata": {},
     "output_type": "display_data"
    }
   ],
   "source": [
    "llm = AIModel().llm\n",
    "generalgraph_obj = GSATChineseGraph(generator_llm=llm, generator_llm_tools=[])\n",
    "generalgraph_obj.show_graph()"
   ]
  },
  {
   "cell_type": "code",
   "execution_count": 4,
   "id": "3ad4714d",
   "metadata": {},
   "outputs": [
    {
     "name": "stdout",
     "output_type": "stream",
     "text": [
      "# 現在請針對以下題目撰寫題目解析：\n",
      "\n",
      "題目敘述:\n",
      "下列「」內的字，讀音前後相同的是：\n",
      "題目選項:\n",
      "(A)「舁」出寶貨／吾生須「臾」\n",
      "(B)切而「啗」之／「諂」詞令色\n",
      "(C)「迤」邐而行／外「弛」內張\n",
      "(D)若分「畛」域／暴「殄」天物\n",
      "答案:\n",
      "A\n"
     ]
    }
   ],
   "source": [
    "pre = \"# 現在請針對以下題目撰寫題目解析：\\n\\n\"\n",
    "content = pre + \"\"\"題目敘述:\n",
    "下列「」內的字，讀音前後相同的是：\n",
    "題目選項:\n",
    "(A)「舁」出寶貨／吾生須「臾」\n",
    "(B)切而「啗」之／「諂」詞令色\n",
    "(C)「迤」邐而行／外「弛」內張\n",
    "(D)若分「畛」域／暴「殄」天物\n",
    "答案:\n",
    "A\"\"\"\n",
    "print(content)"
   ]
  },
  {
   "cell_type": "code",
   "execution_count": 8,
   "id": "fa2d1da7",
   "metadata": {},
   "outputs": [
    {
     "name": "stdout",
     "output_type": "stream",
     "text": [
      "Update from node agent:\n",
      "\n",
      "\n",
      "==================================\u001b[1m Ai Message \u001b[0m==================================\n",
      "Name: generator_agent\n",
      "\n",
      "題目解析：\n",
      "本題取材自高中國文教材選文及常用字詞，檢測考生對於字音的掌握程度，判斷前後字音是否相同。\n",
      "\n",
      "各選項「」內的字，正確讀音依序為：\n",
      "(A)「舁」ㄩˊ出寶貨／吾生須「臾」ㄩˊ。\n",
      "(B)切而「啗」ㄉㄢˋ之／「諂」ㄔㄢˇ詞令色。\n",
      "(C)「迤」ㄧˊ邐而行／外「弛」ㄔˊ內張。\n",
      "(D)若分「畛」ㄓㄣˇ域／暴「殄」ㄊㄧㄢˇ天物。\n",
      "\n",
      "選項(A)「舁」、「臾」讀音皆為ㄩˊ，前後讀音相同，故為正確選項。\n",
      "\n",
      "\n"
     ]
    }
   ],
   "source": [
    "for chunk in generalgraph_obj.graph.stream(\n",
    "    {\n",
    "        \"messages\": [\n",
    "            {\n",
    "                \"role\": \"user\",\n",
    "                \"content\": content,\n",
    "            }\n",
    "        ]\n",
    "    },\n",
    "):\n",
    "    pretty_print_messages(chunk, last_message=True)"
   ]
  },
  {
   "cell_type": "code",
   "execution_count": 6,
   "id": "b23df3c0",
   "metadata": {},
   "outputs": [
    {
     "data": {
      "text/plain": [
       "{'agent': {'messages': [AIMessage(content='題目解析：\\n\\n本題評量考生辨識字音的能力，取材自常用字與部分較為生僻的字詞，檢測考生對於字音掌握的精熟度。考生需熟悉各字詞的正確讀音，才能判斷選項中「」內字讀音是否相同。\\n\\n各選項「」內的字，正確讀音依序為：\\n\\n(A)「舁」ㄩˊ 出寶貨／吾生須「臾」ㄩˊ。\\n(B)切而「啗」ㄉㄢˋ 之／「諂」ㄔㄢˇ 詞令色。\\n(C)「迤」ㄧˊ 邐而行／外「弛」ㄔˊ 內張。\\n(D)若分「畛」ㄓㄣˇ 域／暴「殄」ㄊㄧㄢˇ 天物。\\n\\n選項(A)前後讀音皆為ㄩˊ，故為正確選項。', additional_kwargs={}, response_metadata={'prompt_feedback': {'block_reason': 0, 'safety_ratings': []}, 'finish_reason': 'STOP', 'model_name': 'gemini-2.0-flash', 'safety_ratings': []}, name='generator_agent', id='run--b5e7481f-4dbd-4c49-aa58-13f3c3a04c04-0', usage_metadata={'input_tokens': 970, 'output_tokens': 206, 'total_tokens': 1176, 'input_token_details': {'cache_read': 0}})]}}"
      ]
     },
     "execution_count": 6,
     "metadata": {},
     "output_type": "execute_result"
    }
   ],
   "source": [
    "chunk"
   ]
  }
 ],
 "metadata": {
  "kernelspec": {
   "display_name": "TW-Textforge",
   "language": "python",
   "name": "python3"
  },
  "language_info": {
   "codemirror_mode": {
    "name": "ipython",
    "version": 3
   },
   "file_extension": ".py",
   "mimetype": "text/x-python",
   "name": "python",
   "nbconvert_exporter": "python",
   "pygments_lexer": "ipython3",
   "version": "3.12.10"
  }
 },
 "nbformat": 4,
 "nbformat_minor": 5
}
