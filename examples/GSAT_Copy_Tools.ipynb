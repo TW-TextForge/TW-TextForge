{
 "cells": [
  {
   "cell_type": "markdown",
   "id": "94f5b498",
   "metadata": {},
   "source": [
    "# 提取學測試題與選項、答案的工具 - 自動複製到剪貼簿(若支援)"
   ]
  },
  {
   "cell_type": "markdown",
   "id": "824d5013",
   "metadata": {},
   "source": [
    "### 複製到剪貼簿的功能 - Ubuntu 桌面版，需要安裝套件"
   ]
  },
  {
   "cell_type": "code",
   "execution_count": 1,
   "id": "df71b808",
   "metadata": {},
   "outputs": [],
   "source": [
    "# 通常使用者要輸入密碼，所以不建議直接在 Jupyter Notebook 中執行\n",
    "# sudo apt update && sudo apt install xclip -y"
   ]
  },
  {
   "cell_type": "code",
   "execution_count": 2,
   "id": "2cac851e",
   "metadata": {},
   "outputs": [],
   "source": [
    "import tw_textforge.utils as tools"
   ]
  },
  {
   "cell_type": "code",
   "execution_count": 3,
   "id": "a06e62b3",
   "metadata": {},
   "outputs": [],
   "source": [
    "text = \"\"\"\n",
    "11.\t文中羿與嫦娥言語失和的原因，最可能的選項是：\n",
    "(A)羿不務正業，只知狩獵遊樂而不照顧嫦娥\n",
    "(B)羿的狩獵成果，無法滿足嫦娥的生活所需\n",
    "(C)嫦娥不想再過僕傭簇擁的生活，羿卻不然\n",
    "(D)嫦娥掌握家中大權，把羿當成僕傭來使喚\n",
    "12.\t下列關於文中描寫的敘述，**不恰當**的選項是：\n",
    "(A)嫦娥「風似地往外走」，意在強調嫦娥的輕盈敏捷\n",
    "(B)「羿在垃圾堆邊懶懶地下了馬」，暗喻羿的困頓處境\n",
    "(C)木榻「鋪著脫毛的舊豹皮」，暗指羿被現實生活不斷消磨\n",
    "(D)「她們（使女）都在苦笑」，其實是羿個人內心感受的投射\n",
    "\"\"\""
   ]
  },
  {
   "cell_type": "code",
   "execution_count": 4,
   "id": "1a2a7a05",
   "metadata": {},
   "outputs": [
    {
     "name": "stdout",
     "output_type": "stream",
     "text": [
      "\"文中羿與嫦娥言語失和的原因，最可能的選項是：\"\t羿不務正業，只知狩獵遊樂而不照顧嫦娥\t羿的狩獵成果，無法滿足嫦娥的生活所需\t嫦娥不想再過僕傭簇擁的生活，羿卻不然\t嫦娥掌握家中大權，把羿當成僕傭來使喚\n",
      "\"下列關於文中描寫的敘述，**不恰當**的選項是：\"\t嫦娥「風似地往外走」，意在強調嫦娥的輕盈敏捷\t「羿在垃圾堆邊懶懶地下了馬」，暗喻羿的困頓處境\t木榻「鋪著脫毛的舊豹皮」，暗指羿被現實生活不斷消磨\t「她們（使女）都在苦笑」，其實是羿個人內心感受的投射\n"
     ]
    }
   ],
   "source": [
    "# 不支援複製到剪貼簿的時候(例如: Docker 環境)\n",
    "# 直接使用print()，然後複製輸出\n",
    "# VScode 的 Jupyter Notebook 可以用右鍵 `Copy Cell Output` 來複製輸出\n",
    "\n",
    "for question_option in tools.extract_questions(text):\n",
    "    print(question_option)"
   ]
  },
  {
   "cell_type": "code",
   "execution_count": 5,
   "id": "56b589f2",
   "metadata": {},
   "outputs": [],
   "source": [
    "data = \"\"\"\n",
    "題號 答案 題號 答案 題號 答案\n",
    "1 C 21 B 41 ABC\n",
    "2 B 22 B 42 DE\n",
    "3 C 23 D\n",
    "4 B 24 C\n",
    "5 B 25 D\n",
    "6 D 26 A\n",
    "7 D 27 A\n",
    "8 B 28 B\n",
    "9 C 29 D\n",
    "10 C 30 A\n",
    "11 C 31 C\n",
    "12 A 32 D\n",
    "13 D 33 C\n",
    "14 A 34 A\n",
    "15 D 35 BC\n",
    "16 A 36 BCD\n",
    "17 A 37 CE\n",
    "18 C 38 ABE\n",
    "19 B 39 ABC\n",
    "20 D 40 BDE\n",
    "\"\"\""
   ]
  },
  {
   "cell_type": "code",
   "execution_count": 6,
   "id": "d38ca9d8",
   "metadata": {},
   "outputs": [
    {
     "name": "stdout",
     "output_type": "stream",
     "text": [
      "C\n",
      "B\n",
      "C\n",
      "B\n",
      "B\n",
      "D\n",
      "D\n",
      "B\n",
      "C\n",
      "C\n",
      "C\n",
      "A\n",
      "D\n",
      "A\n",
      "D\n",
      "A\n",
      "A\n",
      "C\n",
      "B\n",
      "D\n",
      "B\n",
      "B\n",
      "D\n",
      "C\n",
      "D\n",
      "A\n",
      "A\n",
      "B\n",
      "D\n",
      "A\n",
      "C\n",
      "D\n",
      "C\n",
      "A\n",
      "BC\n",
      "BCD\n",
      "CE\n",
      "ABE\n",
      "ABC\n",
      "BDE\n",
      "ABC\n",
      "DE\n"
     ]
    }
   ],
   "source": [
    "# 不支援複製到剪貼簿的時候(例如: Docker 環境)\n",
    "# 直接使用print()，然後複製輸出\n",
    "# VScode 的 Jupyter Notebook 可以用右鍵 `Copy Cell Output` 來複製輸出\n",
    "\n",
    "for answer in tools.extract_answers(data):\n",
    "    print(answer)"
   ]
  }
 ],
 "metadata": {
  "kernelspec": {
   "display_name": "tw-textforge",
   "language": "python",
   "name": "python3"
  },
  "language_info": {
   "codemirror_mode": {
    "name": "ipython",
    "version": 3
   },
   "file_extension": ".py",
   "mimetype": "text/x-python",
   "name": "python",
   "nbconvert_exporter": "python",
   "pygments_lexer": "ipython3",
   "version": "3.12.10"
  }
 },
 "nbformat": 4,
 "nbformat_minor": 5
}
