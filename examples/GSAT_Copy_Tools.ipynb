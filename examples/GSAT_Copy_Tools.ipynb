{
 "cells": [
  {
   "cell_type": "code",
   "execution_count": null,
   "id": "df71b808",
   "metadata": {},
   "outputs": [],
   "source": [
    "# !sudo apt update && sudo apt install xclip -y"
   ]
  },
  {
   "cell_type": "code",
   "execution_count": null,
   "id": "2cac851e",
   "metadata": {},
   "outputs": [],
   "source": [
    "import tw_textforge.utils as tools"
   ]
  },
  {
   "cell_type": "code",
   "execution_count": null,
   "id": "a06e62b3",
   "metadata": {},
   "outputs": [],
   "source": [
    "text = \"\"\"\n",
    "3.\t依據下列林西莉《漢字的故事》的說明，「果」、「采」二字的造字方式應屬於：\n",
    "\n",
    "「果」字的現代字形，看起來是由「田」和「木」組成，但如果看一看古老的字形，就會一目了然。甲骨文表現一棵樹，樹枝的頂端結著圓圓的果實。\n",
    "我們在甲骨文的「采」字看到相同的樹，也看到了伸向果實的一隻手。\n",
    "(A)象形／指事\n",
    "(B)象形／會意\n",
    "(C)指事／會意\n",
    "(D)會意／象形\n",
    "4.\t下列文句「」內的詞，其意義和現今慣用詞語相同的選項是：\n",
    "(A)「小學」而大遺，吾未見其明也\n",
    "(B)胡老爹，這個事須是這般，你沒奈何，「權變」一權變\n",
    "(C)不費江東半分之力，已得十萬餘箭，明日即「將來」射曹軍\n",
    "(D)今歲春雪甚盛，梅花為寒所勒，與杏、桃相次「開發」，尤為奇觀\n",
    "5.\t下列各組「」內的字，前後意義相同的選項是：\n",
    "(A)不堪其苦，陰有歸「志」／費禕、董允等，此皆良實，「志」慮忠純\n",
    "(B)其西南「諸」峰，林壑尤美／工之僑以歸，謀「諸」漆工，作斷紋焉\n",
    "(C)往來桐城，必躬「造」左公第／洋洋乎與「造」物者遊，而不知其所窮\n",
    "(D)見漁人，乃大驚，問所「從」來／余與「從」者後，五步之內，已各不相見\n",
    "\"\"\""
   ]
  },
  {
   "cell_type": "code",
   "execution_count": null,
   "id": "1a2a7a05",
   "metadata": {},
   "outputs": [],
   "source": [
    "tools.extract_questions(text)"
   ]
  },
  {
   "cell_type": "code",
   "execution_count": null,
   "id": "d38ca9d8",
   "metadata": {},
   "outputs": [],
   "source": [
    "tools.extract_answers(text)"
   ]
  }
 ],
 "metadata": {
  "kernelspec": {
   "display_name": "TW-TextForge",
   "language": "python",
   "name": "python3"
  },
  "language_info": {
   "codemirror_mode": {
    "name": "ipython",
    "version": 3
   },
   "file_extension": ".py",
   "mimetype": "text/x-python",
   "name": "python",
   "nbconvert_exporter": "python",
   "pygments_lexer": "ipython3",
   "version": "3.10.12"
  }
 },
 "nbformat": 4,
 "nbformat_minor": 5
}
