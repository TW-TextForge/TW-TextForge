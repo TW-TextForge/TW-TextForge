{
 "cells": [
  {
   "cell_type": "markdown",
   "id": "7991352d",
   "metadata": {},
   "source": [
    "# 生成學測國文試題分析 - 使用範本"
   ]
  },
  {
   "cell_type": "markdown",
   "id": "e5f767a2",
   "metadata": {},
   "source": [
    "## 套件引入與數值初始化"
   ]
  },
  {
   "cell_type": "code",
   "execution_count": 2,
   "id": "70156139",
   "metadata": {},
   "outputs": [],
   "source": [
    "from tw_textforge.sdk.GSAT.Chinese import GSAT_Chinese_QuestionAnalysis"
   ]
  },
  {
   "cell_type": "markdown",
   "id": "976e2e4a",
   "metadata": {},
   "source": [
    "## 建立物件"
   ]
  },
  {
   "cell_type": "code",
   "execution_count": 3,
   "id": "89e1a32f",
   "metadata": {},
   "outputs": [
    {
     "data": {
      "application/vnd.jupyter.widget-view+json": {
       "model_id": "17dba8929dca4a6ca99e38df78c0504f",
       "version_major": 2,
       "version_minor": 0
      },
      "text/plain": [
       "train-00000-of-00001.parquet:   0%|          | 0.00/783k [00:00<?, ?B/s]"
      ]
     },
     "metadata": {},
     "output_type": "display_data"
    },
    {
     "data": {
      "application/vnd.jupyter.widget-view+json": {
       "model_id": "356878b482fa4033adc797194f9cbfa5",
       "version_major": 2,
       "version_minor": 0
      },
      "text/plain": [
       "Generating train split:   0%|          | 0/348 [00:00<?, ? examples/s]"
      ]
     },
     "metadata": {},
     "output_type": "display_data"
    }
   ],
   "source": [
    "QuestionAnalysiser = GSAT_Chinese_QuestionAnalysis(break_time=2)"
   ]
  },
  {
   "cell_type": "markdown",
   "id": "bbdb15c8",
   "metadata": {},
   "source": [
    "## 執行題目分析"
   ]
  },
  {
   "cell_type": "code",
   "execution_count": 4,
   "id": "ec96b6a8",
   "metadata": {},
   "outputs": [
    {
     "name": "stdout",
     "output_type": "stream",
     "text": [
      "總共需要執行的步驟量: 348，已完成: 0\n",
      "當前執行步驟: 1/348\n",
      "各選項「」內的字，正確讀音依序為：\n",
      "(A)「舁」ㄩˊ出寶貨／吾生須「臾」ㄩˊ。\n",
      "(B)切而「啗」ㄉㄢˋ之／「諂」ㄔㄢˇ詞令色。\n",
      "(C)「迤」ㄧˇ邐而行／外「弛」ㄔˊ內張。\n",
      "(D)若分「畛」ㄓㄣˇ域／暴「殄」ㄊㄧㄢˇ天物。\n",
      "選項(A)前後讀音相同，故為正確選項。\n",
      "當前執行步驟: 2/348\n",
      "各選項正確字形依序為：\n",
      "(A)「伶牙利齒」應為「伶牙俐齒」。\n",
      "(B)「矯柔造作」應為「嬌柔造作」。\n",
      "(C)「大有展獲」應為「大有斬獲」。\n",
      "(D)「恬不知恥」字形正確無誤。\n",
      "選項(D)字形無誤，故為正確選項。\n",
      "暫停題目: 3，等待輸入繼續或中止...\n",
      "結束執行。\n"
     ]
    }
   ],
   "source": [
    "QuestionAnalysiser.run()"
   ]
  },
  {
   "cell_type": "markdown",
   "id": "4b811224",
   "metadata": {},
   "source": [
    "## 合併結果到資料集"
   ]
  },
  {
   "cell_type": "code",
   "execution_count": 5,
   "id": "62f332a6",
   "metadata": {},
   "outputs": [
    {
     "name": "stderr",
     "output_type": "stream",
     "text": [
      "Parameter 'function'=<function GSAT_Chinese_QuestionAnalysis.checkpoint_mergeTo_datasets.<locals>.update_analysis at 0x6ffd645b9120> of the transform datasets.arrow_dataset.Dataset._map_single couldn't be hashed properly, a random hash was used instead. Make sure your transforms and parameters are serializable with pickle or dill for the dataset fingerprinting and caching to work. If you reuse this transform, the caching mechanism will consider it to be different from the previous calls and recompute everything. This warning is only showed once. Subsequent hashing failures won't be showed.\n"
     ]
    },
    {
     "data": {
      "application/vnd.jupyter.widget-view+json": {
       "model_id": "bc5283bd7663459bb2de976dc052481d",
       "version_major": 2,
       "version_minor": 0
      },
      "text/plain": [
       "Map:   0%|          | 0/348 [00:00<?, ? examples/s]"
      ]
     },
     "metadata": {},
     "output_type": "display_data"
    }
   ],
   "source": [
    "merge_dataset = QuestionAnalysiser.checkpoint_mergeTo_datasets()"
   ]
  },
  {
   "cell_type": "markdown",
   "id": "2476d8f7",
   "metadata": {},
   "source": [
    "## 檢查題目分析內容"
   ]
  },
  {
   "cell_type": "code",
   "execution_count": 6,
   "id": "0222a580",
   "metadata": {},
   "outputs": [
    {
     "data": {
      "text/plain": [
       "{'year': 114,\n",
       " 'id': 1,\n",
       " 'question_type': 'single',\n",
       " 'article': None,\n",
       " 'question': '下列「」內的字，讀音前後相同的是：',\n",
       " 'A': '「舁」出寶貨／吾生須「臾」',\n",
       " 'B': '切而「啗」之／「諂」詞令色',\n",
       " 'C': '「迤」邐而行／外「弛」內張',\n",
       " 'D': '若分「畛」域／暴「殄」天物',\n",
       " 'E': None,\n",
       " 'grading_criteria': None,\n",
       " 'answer': 'A',\n",
       " 'answer_rate': 42.0,\n",
       " 'text_pre_format': '114學年度學科能力測驗\\n國文考科\\n第1題\\n單選題\\n下列「」內的字，讀音前後相同的是：  \\n(A)「舁」出寶貨／吾生須「臾」  \\n(B)切而「啗」之／「諂」詞令色  \\n(C)「迤」邐而行／外「弛」內張  \\n(D)若分「畛」域／暴「殄」天物  \\n\\n正確答案：(A)「舁」出寶貨／吾生須「臾」\\n\\n答題率：42%',\n",
       " 'text_pre_tw_textforge_format': '單選題\\n下列「」內的字，讀音前後相同的是：  \\n(A)「舁」出寶貨／吾生須「臾」  \\n(B)切而「啗」之／「諂」詞令色  \\n(C)「迤」邐而行／外「弛」內張  \\n(D)若分「畛」域／暴「殄」天物  \\n\\n正確答案：(A)「舁」出寶貨／吾生須「臾」',\n",
       " 'analysis': '各選項「」內的字，正確讀音依序為：\\n(A)「舁」ㄩˊ出寶貨／吾生須「臾」ㄩˊ。\\n(B)切而「啗」ㄉㄢˋ之／「諂」ㄔㄢˇ詞令色。\\n(C)「迤」ㄧˇ邐而行／外「弛」ㄔˊ內張。\\n(D)若分「畛」ㄓㄣˇ域／暴「殄」ㄊㄧㄢˇ天物。\\n選項(A)前後讀音相同，故為正確選項。'}"
      ]
     },
     "execution_count": 6,
     "metadata": {},
     "output_type": "execute_result"
    }
   ],
   "source": [
    "merge_dataset[0]"
   ]
  }
 ],
 "metadata": {
  "kernelspec": {
   "display_name": "TW-Textforge",
   "language": "python",
   "name": "python3"
  },
  "language_info": {
   "codemirror_mode": {
    "name": "ipython",
    "version": 3
   },
   "file_extension": ".py",
   "mimetype": "text/x-python",
   "name": "python",
   "nbconvert_exporter": "python",
   "pygments_lexer": "ipython3",
   "version": "3.12.10"
  }
 },
 "nbformat": 4,
 "nbformat_minor": 5
}
