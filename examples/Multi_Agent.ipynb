{
 "cells": [
  {
   "cell_type": "markdown",
   "id": "7991352d",
   "metadata": {},
   "source": [
    "# LangGrpah 雙代理通用"
   ]
  },
  {
   "cell_type": "markdown",
   "id": "e5f767a2",
   "metadata": {},
   "source": [
    "## 套件引入與數值初始化"
   ]
  },
  {
   "cell_type": "code",
   "execution_count": 2,
   "id": "70156139",
   "metadata": {},
   "outputs": [],
   "source": [
    "from tw_textforge.agent.ai_model import AIModel\n",
    "from tw_textforge.agent.printer import pretty_print_messages\n",
    "from tw_textforge.agent.general.multi_agnet_graph import GeneralMultiAgentGraph"
   ]
  },
  {
   "cell_type": "code",
   "execution_count": 3,
   "id": "c1e3672c",
   "metadata": {},
   "outputs": [
    {
     "data": {
      "image/png": "[encoded data removed]",
      "text/plain": [
       "<IPython.core.display.Image object>"
      ]
     },
     "metadata": {},
     "output_type": "display_data"
    }
   ],
   "source": [
    "llm = AIModel().llm\n",
    "generalgraph_obj = GeneralMultiAgentGraph(supervisor_llm=llm, generator_llm=llm, generator_llm_tools=[], extractor_llm=llm)\n",
    "generalgraph_obj.show_graph()"
   ]
  },
  {
   "cell_type": "code",
   "execution_count": 4,
   "id": "fa2d1da7",
   "metadata": {},
   "outputs": [
    {
     "name": "stderr",
     "output_type": "stream",
     "text": [
      "Task supervisor with path ('__pregel_pull', 'supervisor') wrote to unknown channel is_last_step, ignoring it.\n",
      "Task supervisor with path ('__pregel_pull', 'supervisor') wrote to unknown channel remaining_steps, ignoring it.\n"
     ]
    },
    {
     "name": "stdout",
     "output_type": "stream",
     "text": [
      "Update from node supervisor:\n",
      "\n",
      "\n",
      "=================================\u001b[1m Tool Message \u001b[0m=================================\n",
      "Name: transfer_to_generator_agent\n",
      "\n",
      "Successfully transferred to generator_agent\n",
      "\n",
      "\n",
      "Update from node generator_agent:\n",
      "\n",
      "\n",
      "=================================\u001b[1m Tool Message \u001b[0m=================================\n",
      "Name: transfer_back_to_supervisor\n",
      "\n",
      "Successfully transferred back to supervisor\n",
      "\n",
      "\n"
     ]
    },
    {
     "name": "stderr",
     "output_type": "stream",
     "text": [
      "Task supervisor with path ('__pregel_pull', 'supervisor') wrote to unknown channel is_last_step, ignoring it.\n",
      "Task supervisor with path ('__pregel_pull', 'supervisor') wrote to unknown channel remaining_steps, ignoring it.\n"
     ]
    },
    {
     "name": "stdout",
     "output_type": "stream",
     "text": [
      "Update from node supervisor:\n",
      "\n",
      "\n",
      "=================================\u001b[1m Tool Message \u001b[0m=================================\n",
      "Name: transfer_to_extractor_agent\n",
      "\n",
      "Successfully transferred to extractor_agent\n",
      "\n",
      "\n",
      "Update from node extractor_agent:\n",
      "\n",
      "\n",
      "=================================\u001b[1m Tool Message \u001b[0m=================================\n",
      "Name: transfer_back_to_supervisor\n",
      "\n",
      "Successfully transferred back to supervisor\n",
      "\n",
      "\n",
      "Update from node supervisor:\n",
      "\n",
      "\n",
      "==================================\u001b[1m Ai Message \u001b[0m==================================\n",
      "Name: supervisor\n",
      "\n",
      "好的，謝謝。\n",
      "\n",
      "\n"
     ]
    }
   ],
   "source": [
    "for chunk in generalgraph_obj.graph.stream(\n",
    "    {\n",
    "        \"messages\": [\n",
    "            {\n",
    "                \"role\": \"user\",\n",
    "                \"content\": \"在軟體工程中，什麼是資料庫?\",\n",
    "            }\n",
    "        ]\n",
    "    },\n",
    "):\n",
    "    pretty_print_messages(chunk, last_message=True)"
   ]
  },
  {
   "cell_type": "code",
   "execution_count": 5,
   "id": "b23df3c0",
   "metadata": {},
   "outputs": [
    {
     "data": {
      "text/plain": [
       "{'supervisor': {'messages': [HumanMessage(content='在軟體工程中，什麼是資料庫?', additional_kwargs={}, response_metadata={}, id='a04ac1cb-63df-42cf-8daa-91220e808e46'),\n",
       "   AIMessage(content='我會請 generator_agent 回答這個問題。', additional_kwargs={'function_call': {'name': 'transfer_to_generator_agent', 'arguments': '{}'}}, response_metadata={'prompt_feedback': {'block_reason': 0, 'safety_ratings': []}, 'finish_reason': 'STOP', 'model_name': 'gemini-2.0-flash', 'safety_ratings': []}, name='supervisor', id='run--d4a2215b-945b-46e4-89a6-710a57f62c7d-0', tool_calls=[{'name': 'transfer_to_generator_agent', 'args': {}, 'id': '3b90b6d8-8474-4918-b37a-c086c5d90ed4', 'type': 'tool_call'}], usage_metadata={'input_tokens': 122, 'output_tokens': 18, 'total_tokens': 140, 'input_token_details': {'cache_read': 0}}),\n",
       "   ToolMessage(content='Successfully transferred to generator_agent', name='transfer_to_generator_agent', id='8268a4cf-b22e-42c6-b2d5-ba5e7e477cfc', tool_call_id='3b90b6d8-8474-4918-b37a-c086c5d90ed4'),\n",
       "   AIMessage(content='在軟體工程中，資料庫是指有組織地儲存和管理資料的結構化系統。它允許使用者高效且安全地存取、更新和管理大量資訊。\\n\\n以下是一些關於資料庫的更細節說明：\\n\\n**基本概念：**\\n\\n*   **資料（Data）：** 事實、數值、文字、圖片、音訊或影片等，可以用來表達資訊。\\n*   **資料庫（Database）：** 相互關聯的資料集合體，以特定方式組織儲存，方便存取和管理。\\n*   **資料庫管理系統（DBMS）：** 用來創建、維護和使用資料庫的軟體。它提供介面，讓使用者可以執行各種操作，例如新增、刪除、修改和查詢資料。常見的 DBMS 包括 MySQL、PostgreSQL、Oracle、Microsoft SQL Server 和 MongoDB。\\n\\n**資料庫的主要功能：**\\n\\n*   **資料儲存：** 安全可靠地儲存大量資料。\\n*   **資料檢索：** 提供高效的查詢機制，讓使用者可以快速找到需要的資料。\\n*   **資料更新：**  允許使用者修改現有資料。\\n*   **資料一致性與完整性：** 確保資料準確、有效且一致。通過使用約束條件（constraints）、驗證規則（validation rules）和事務（transactions）來實現。\\n*   **資料安全性：** 控制對資料的存取權限，防止未授權的存取。\\n*   **資料備份與恢復：** 提供備份和恢復機制，以防止資料遺失。\\n*   **並行控制：**允許多個使用者同時存取資料庫，並確保資料的一致性。\\n\\n**資料庫的種類：**\\n\\n常見的資料庫模型包括：\\n\\n*   **關係型資料庫（Relational Database）：** 使用表格來儲存資料，表格之間通過關聯的鍵（Keys, 例如主鍵和外鍵）建立關係。  關係型資料庫遵循 ACID (Atomicity, Consistency, Isolation, Durability) 原則。Examples include MySQL, PostgreSQL, Oracle, SQL Server. (例如 MySQL, PostgreSQL, Oracle, SQL Server)\\n*   **非關係型資料庫（NoSQL Database）：**  適用於需要靈活性的資料模型，或是處理大量非結構化資料的應用。  NoSQL 資料庫有多種類型，例如：\\n    *   **鍵值資料庫（Key-Value Store）：** 以鍵值對的方式儲存資料。Examples include Redis and Memcached. (例如 Redis 和 Memcached)\\n    *   **文檔資料庫（Document Database）：** 以 JSON 或 XML 等文檔格式儲存資料。 Examples included MongoDB and Couchbase. (例如 MongoDB 和 Couchbase)\\n    *   **列式資料庫（Columnar Database）：**  以列的方式儲存資料，在數據倉庫和商業智慧應用中表現出色。 Examples include Cassandra and HBase. (例如 Cassandra 和 HBase)\\n    *   **圖形資料庫（Graph Database）：**  使用節點和邊來表示資料之間的關係，適用於社交網路、推薦系統等應用。 Example include Neo4j. (例如 Neo4j)\\n*   **物件導向資料庫（Object-Oriented Database）：**  資料以物件的形式儲存，適用於物件導向的程式設計。\\n*   **圖形資料庫 (Graph Database):** 使用圖形結構儲存資料，強調資料點之間的關係。常用於社交網路、推薦系統等。\\n\\n**資料庫在軟體工程中的作用：**\\n\\n*   **應用程式資料儲存：** 大部分應用程式都需要儲存使用者資料、配置資訊、日誌等等。資料庫提供了一個結構化的儲存解決方案.\\n*   **資料分析：** 資料庫可以作為資料倉庫，用於資料分析和商業智慧。\\n*   **提高效能：** 透過索引和查詢優化，資料庫可以顯著提高資料存取速度.\\n*   **資料共享：** 多個應用程式或使用者可以同時存取和使用同一個資料庫。\\n*   **資料安全：** 資料庫管理系統提供安全機制，保護資料免受未授權的存取和修改.\\n\\n**總結：**\\n\\n資料庫是軟體工程中不可或缺的組成部分，用於有組織地儲存、管理和檢索資料。 選擇合適的資料庫，需要考慮應用程式的需求、資料的結構、效能要求和可擴展性等因素。\\n\\n希望這個說明對於理解資料庫在軟體工程中的概念與作用有所幫助。', additional_kwargs={}, response_metadata={'prompt_feedback': {'block_reason': 0, 'safety_ratings': []}, 'finish_reason': 'STOP', 'model_name': 'gemini-2.0-flash', 'safety_ratings': []}, name='generator_agent', id='run--4692b04a-1799-4605-9ba0-1188f2730edf-0', usage_metadata={'input_tokens': 65, 'output_tokens': 998, 'total_tokens': 1063, 'input_token_details': {'cache_read': 0}}),\n",
       "   AIMessage(content='Transferring back to supervisor', additional_kwargs={}, response_metadata={'__is_handoff_back': True}, name='generator_agent', id='4461ebd0-e7e0-429b-975f-baaa49ea876d', tool_calls=[{'name': 'transfer_back_to_supervisor', 'args': {}, 'id': 'bcc34227-f159-43b9-ad2c-c8fa4fe800a8', 'type': 'tool_call'}]),\n",
       "   ToolMessage(content='Successfully transferred back to supervisor', name='transfer_back_to_supervisor', id='e9ba2697-e298-4cb7-9bf3-f40e8225fcd3', tool_call_id='bcc34227-f159-43b9-ad2c-c8fa4fe800a8'),\n",
       "   AIMessage(content='請將上段文字整理出關於資料庫的重要資訊。', additional_kwargs={'function_call': {'name': 'transfer_to_extractor_agent', 'arguments': '{}'}}, response_metadata={'prompt_feedback': {'block_reason': 0, 'safety_ratings': []}, 'finish_reason': 'STOP', 'model_name': 'gemini-2.0-flash', 'safety_ratings': []}, name='supervisor', id='run--a061aec9-b1eb-4bf1-9a7d-1fd2fbc6b228-0', tool_calls=[{'name': 'transfer_to_extractor_agent', 'args': {}, 'id': '3869ff52-a5d9-4bdc-8ff0-121c983a340e', 'type': 'tool_call'}], usage_metadata={'input_tokens': 1160, 'output_tokens': 21, 'total_tokens': 1181, 'input_token_details': {'cache_read': 0}}),\n",
       "   ToolMessage(content='Successfully transferred to extractor_agent', name='transfer_to_extractor_agent', id='f475754f-c9a0-4739-ab41-9dddd079abde', tool_call_id='3869ff52-a5d9-4bdc-8ff0-121c983a340e'),\n",
       "   AIMessage(content='資料庫是軟體工程中用於有組織地儲存和管理資料的結構化系統，主要功能包括資料儲存、檢索、更新、一致性、安全性和備份。常見類型包括關係型 (如 MySQL)、非關係型 (NoSQL，如 MongoDB) 和圖形資料庫。資料庫在應用程式中用於資料儲存、分析、提高效能、共享和保障安全。', additional_kwargs={}, response_metadata={'prompt_feedback': {'block_reason': 0, 'safety_ratings': []}, 'finish_reason': 'STOP', 'model_name': 'gemini-2.0-flash', 'safety_ratings': []}, name='extractor_agent', id='run--ddfddc0a-1b35-47d1-9561-7cf00d44088c-0', usage_metadata={'input_tokens': 1118, 'output_tokens': 90, 'total_tokens': 1208, 'input_token_details': {'cache_read': 0}}),\n",
       "   AIMessage(content='Transferring back to supervisor', additional_kwargs={}, response_metadata={'__is_handoff_back': True}, name='extractor_agent', id='097b7e69-82f9-4466-801b-14d5e8abb344', tool_calls=[{'name': 'transfer_back_to_supervisor', 'args': {}, 'id': 'e2ecd0f4-c853-42a6-91b6-58a97c65c379', 'type': 'tool_call'}]),\n",
       "   ToolMessage(content='Successfully transferred back to supervisor', name='transfer_back_to_supervisor', id='faee03f2-a713-4b12-8c2d-3091839db039', tool_call_id='e2ecd0f4-c853-42a6-91b6-58a97c65c379'),\n",
       "   AIMessage(content='好的，謝謝。', additional_kwargs={}, response_metadata={'prompt_feedback': {'block_reason': 0, 'safety_ratings': []}, 'finish_reason': 'STOP', 'model_name': 'gemini-2.0-flash', 'safety_ratings': []}, name='supervisor', id='run--f4d4c64f-8b96-4e58-8f72-4d6cc06b0cfd-0', usage_metadata={'input_tokens': 1290, 'output_tokens': 5, 'total_tokens': 1295, 'input_token_details': {'cache_read': 0}})]}}"
      ]
     },
     "execution_count": 5,
     "metadata": {},
     "output_type": "execute_result"
    }
   ],
   "source": [
    "chunk"
   ]
  }
 ],
 "metadata": {
  "kernelspec": {
   "display_name": "TW-Textforge",
   "language": "python",
   "name": "python3"
  },
  "language_info": {
   "codemirror_mode": {
    "name": "ipython",
    "version": 3
   },
   "file_extension": ".py",
   "mimetype": "text/x-python",
   "name": "python",
   "nbconvert_exporter": "python",
   "pygments_lexer": "ipython3",
   "version": "3.12.10"
  }
 },
 "nbformat": 4,
 "nbformat_minor": 5
}
