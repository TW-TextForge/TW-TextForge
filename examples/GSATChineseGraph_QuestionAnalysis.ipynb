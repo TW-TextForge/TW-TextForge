{
 "cells": [
  {
   "cell_type": "markdown",
   "id": "7991352d",
   "metadata": {},
   "source": [
    "# 生成學測國文試題分析 - 使用範本"
   ]
  },
  {
   "cell_type": "markdown",
   "id": "e5f767a2",
   "metadata": {},
   "source": [
    "## 套件引入與數值初始化"
   ]
  },
  {
   "cell_type": "code",
   "execution_count": 2,
   "id": "70156139",
   "metadata": {},
   "outputs": [],
   "source": [
    "from tw_textforge.agent.ai_model import AIModel\n",
    "from tw_textforge.agent.GSAT.chinese import GSATChineseGraph_QuestionAnalysis\n",
    "from tw_textforge.dataset.loader import streaming_load_dataset"
   ]
  },
  {
   "cell_type": "code",
   "execution_count": 3,
   "id": "c1e3672c",
   "metadata": {},
   "outputs": [],
   "source": [
    "llm = AIModel().llm\n",
    "chinese_graph = GSATChineseGraph_QuestionAnalysis(generator_llm=llm, generator_llm_tools=[])"
   ]
  },
  {
   "cell_type": "code",
   "execution_count": 4,
   "id": "7a371cbf",
   "metadata": {},
   "outputs": [],
   "source": [
    "dataset = streaming_load_dataset(\"TW-TextForge/TW-GSAT-114-Chinese-General\")"
   ]
  },
  {
   "cell_type": "code",
   "execution_count": 5,
   "id": "afb87ee5",
   "metadata": {},
   "outputs": [
    {
     "name": "stdout",
     "output_type": "stream",
     "text": [
      "(A)「舁」ㄩˊ出寶貨／吾生須「臾」ㄩˊ。\n",
      "(B)切而「啗」ㄉㄢˋ之／「諂」ㄔㄢˇ詞令色。\n",
      "(C)「迤」ㄧˊ邐而行／外「弛」ㄔˊ內張。\n",
      "(D)若分「畛」ㄓㄣˇ域／暴「殄」ㄊㄧㄢˇ天物。\n",
      "選項(A)前後讀音相同，故為正確選項。\n",
      "(A)「伶牙利齒」應為「伶牙俐齒」。\n",
      "(B)「矯柔造作」應為「矯揉造作」。\n",
      "(C)「大有展獲」應為「大有斬獲」。\n",
      "(D)「恬不知恥」字形正確無誤。\n",
      "選項(D)字形無誤，故為正確選項。\n"
     ]
    }
   ],
   "source": [
    "batch_size = 2\n",
    "pre = \"# 現在請針對以下題目撰寫題目解析：\\n\\n\"\n",
    "for batch in dataset.iter(batch_size=batch_size):\n",
    "    for item in batch[\"text_pre_format\"]:\n",
    "        content = pre + item\n",
    "        response = chinese_graph.graph.invoke(\n",
    "            {\n",
    "                \"messages\": [\n",
    "                    {\n",
    "                        \"role\": \"user\",\n",
    "                        \"content\": content,\n",
    "                    }\n",
    "                ]\n",
    "            },\n",
    "        )\n",
    "        print(response[\"messages\"][-1].content)\n",
    "    break # 提前退出，避免燒 token"
   ]
  }
 ],
 "metadata": {
  "kernelspec": {
   "display_name": "TW-Textforge",
   "language": "python",
   "name": "python3"
  },
  "language_info": {
   "codemirror_mode": {
    "name": "ipython",
    "version": 3
   },
   "file_extension": ".py",
   "mimetype": "text/x-python",
   "name": "python",
   "nbconvert_exporter": "python",
   "pygments_lexer": "ipython3",
   "version": "3.12.10"
  }
 },
 "nbformat": 4,
 "nbformat_minor": 5
}
