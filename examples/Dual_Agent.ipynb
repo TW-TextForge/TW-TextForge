{
 "cells": [
  {
   "cell_type": "markdown",
   "id": "7991352d",
   "metadata": {},
   "source": [
    "# LangGrpah 雙代理通用"
   ]
  },
  {
   "cell_type": "markdown",
   "id": "e5f767a2",
   "metadata": {},
   "source": [
    "## 套件引入與數值初始化"
   ]
  },
  {
   "cell_type": "code",
   "execution_count": 1,
   "id": "70156139",
   "metadata": {},
   "outputs": [],
   "source": [
    "import sys, os\n",
    "sys.path.insert(0, os.path.abspath(\"../src\"))\n",
    "from tw_textforge.agent.ai_model import AIModel\n",
    "from tw_textforge.agent.general.dual_agent_graph import GeneralDualAgentGraph"
   ]
  },
  {
   "cell_type": "code",
   "execution_count": 2,
   "id": "c1e3672c",
   "metadata": {},
   "outputs": [
    {
     "data": {
      "image/png": "[encoded data removed]",
      "text/plain": [
       "<IPython.core.display.Image object>"
      ]
     },
     "metadata": {},
     "output_type": "display_data"
    }
   ],
   "source": [
    "llm = AIModel().llm\n",
    "generalgraph_obj = GeneralDualAgentGraph(generator_llm=llm, generator_llm_tools=[], extractor_llm=llm)\n",
    "generalgraph_obj.show_graph()"
   ]
  },
  {
   "cell_type": "code",
   "execution_count": 3,
   "id": "5b8a45ef",
   "metadata": {},
   "outputs": [],
   "source": [
    "from langchain_core.messages import convert_to_messages\n",
    "\n",
    "def pretty_print_message(message, indent=False):\n",
    "    pretty_message = message.pretty_repr(html=True)\n",
    "    if not indent:\n",
    "        print(pretty_message)\n",
    "        return\n",
    "\n",
    "    indented = \"\\n\".join(\"\\t\" + c for c in pretty_message.split(\"\\n\"))\n",
    "    print(indented)\n",
    "\n",
    "\n",
    "def pretty_print_messages(update, last_message=False):\n",
    "    is_subgraph = False\n",
    "    if isinstance(update, tuple):\n",
    "        ns, update = update\n",
    "        # skip parent graph updates in the printouts\n",
    "        if len(ns) == 0:\n",
    "            return\n",
    "\n",
    "        graph_id = ns[-1].split(\":\")[0]\n",
    "        print(f\"Update from subgraph {graph_id}:\")\n",
    "        print(\"\\n\")\n",
    "        is_subgraph = True\n",
    "\n",
    "    for node_name, node_update in update.items():\n",
    "        update_label = f\"Update from node {node_name}:\"\n",
    "        if is_subgraph:\n",
    "            update_label = \"\\t\" + update_label\n",
    "\n",
    "        print(update_label)\n",
    "        print(\"\\n\")\n",
    "\n",
    "        messages = convert_to_messages(node_update[\"messages\"])\n",
    "        if last_message:\n",
    "            messages = messages[-1:]\n",
    "\n",
    "        for m in messages:\n",
    "            pretty_print_message(m, indent=is_subgraph)\n",
    "        print(\"\\n\")"
   ]
  },
  {
   "cell_type": "code",
   "execution_count": 4,
   "id": "fa2d1da7",
   "metadata": {},
   "outputs": [
    {
     "name": "stdout",
     "output_type": "stream",
     "text": [
      "Update from node generator_agent:\n",
      "\n",
      "\n",
      "==================================\u001b[1m Ai Message \u001b[0m==================================\n",
      "\n",
      "在軟體工程中，資料庫是一種有組織的資訊集合，並且以電子方式儲存在電腦系統中。資料庫通常由資料庫管理系統 (DBMS) 控制。資料庫和 DBMS 結合在一起，稱為資料庫系統。\n",
      "\n",
      "以更實際的術語來說，資料庫就像一個電子檔案櫃。它允許使用者以結構化的方式儲存和檢索資料。資料可以組織成表格、列、欄和索引，以便更輕鬆地搜尋和篩選資料。\n",
      "\n",
      "資料庫可以廣泛用於儲存各種類型的資訊，包括：\n",
      "\n",
      "* 客戶資訊\n",
      "* 產品目錄\n",
      "* 訂單歷史記錄\n",
      "* 財務記錄\n",
      "* 科學資料\n",
      "\n",
      "資料庫用作許多應用程式的後端，從簡單的網站到複雜的企業資源規劃 (ERP) 系統。它們對於有效管理和分析大量資料至關重要。\n",
      "\n",
      "資料庫的常見範例包括：\n",
      "\n",
      "* MySQL\n",
      "* PostgreSQL\n",
      "* Oracle\n",
      "* Microsoft SQL Server\n",
      "* MongoDB\n",
      "\n",
      "這些系統提供各種功能，例如資料儲存、資料擷取、資料更新和資料管理。它們還包括控制對資料集存取、確保資料完整性和支援並行使用者存取的機制。\n",
      "\n",
      "我希望這有助於了解軟體工程中的資料庫是什麼。如果您有任何其他問題，請告訴我。\n",
      "\n",
      "\n",
      "Update from node extractor_agent:\n",
      "\n",
      "\n",
      "==================================\u001b[1m Ai Message \u001b[0m==================================\n",
      "\n",
      "軟體工程中的資料庫：\n",
      "\n",
      "*   **定義**：\n",
      "    *   有組織的資訊集合。\n",
      "    *   以電子方式儲存在電腦系統中。\n",
      "    *   資料庫 + DBMS = 資料庫系統。\n",
      "*   **功能**：\n",
      "    *   結構化儲存和檢索資料。\n",
      "    *   透過表格、列、欄、索引組織資料。\n",
      "    *   有效管理和分析大量資料。\n",
      "*   **用途**：\n",
      "    *   儲存客戶資訊、產品目錄、訂單歷史記錄、財務記錄、科學資料等。\n",
      "    *   作為應用程式後端，從網站到 ERP 系統。\n",
      "*   **範例**：\n",
      "    *   MySQL\n",
      "    *   PostgreSQL\n",
      "    *   Oracle\n",
      "    *   Microsoft SQL Server\n",
      "    *   MongoDB\n",
      "*   **提供的功能**：\n",
      "    *   資料儲存、擷取、更新、管理。\n",
      "    *   控制資料集存取。\n",
      "    *   確保資料完整性。\n",
      "    *   支援並行使用者存取。\n",
      "\n",
      "提取完畢。\n",
      "\n",
      "\n"
     ]
    }
   ],
   "source": [
    "for chunk in generalgraph_obj.graph.stream(\n",
    "    {\n",
    "        \"messages\": [\n",
    "            {\n",
    "                \"role\": \"user\",\n",
    "                \"content\": \"在軟體工程中，什麼是資料庫?\",\n",
    "            }\n",
    "        ]\n",
    "    },\n",
    "):\n",
    "    pretty_print_messages(chunk, last_message=True)"
   ]
  },
  {
   "cell_type": "code",
   "execution_count": 5,
   "id": "b23df3c0",
   "metadata": {},
   "outputs": [
    {
     "data": {
      "text/plain": [
       "{'extractor_agent': {'messages': [AIMessage(content='軟體工程中的資料庫：\\n\\n*   **定義**：\\n    *   有組織的資訊集合。\\n    *   以電子方式儲存在電腦系統中。\\n    *   資料庫 + DBMS = 資料庫系統。\\n*   **功能**：\\n    *   結構化儲存和檢索資料。\\n    *   透過表格、列、欄、索引組織資料。\\n    *   有效管理和分析大量資料。\\n*   **用途**：\\n    *   儲存客戶資訊、產品目錄、訂單歷史記錄、財務記錄、科學資料等。\\n    *   作為應用程式後端，從網站到 ERP 系統。\\n*   **範例**：\\n    *   MySQL\\n    *   PostgreSQL\\n    *   Oracle\\n    *   Microsoft SQL Server\\n    *   MongoDB\\n*   **提供的功能**：\\n    *   資料儲存、擷取、更新、管理。\\n    *   控制資料集存取。\\n    *   確保資料完整性。\\n    *   支援並行使用者存取。\\n\\n提取完畢。', additional_kwargs={}, response_metadata={'prompt_feedback': {'block_reason': 0, 'safety_ratings': []}, 'finish_reason': 'STOP', 'model_name': 'gemini-2.0-flash', 'safety_ratings': []}, id='run--4c47e397-e886-4ed7-a12f-59b21bc63d70-0', usage_metadata={'input_tokens': 649, 'output_tokens': 239, 'total_tokens': 888, 'input_token_details': {'cache_read': 0}})]}}"
      ]
     },
     "execution_count": 5,
     "metadata": {},
     "output_type": "execute_result"
    }
   ],
   "source": [
    "chunk"
   ]
  }
 ],
 "metadata": {
  "kernelspec": {
   "display_name": "TW-Textforge",
   "language": "python",
   "name": "python3"
  },
  "language_info": {
   "codemirror_mode": {
    "name": "ipython",
    "version": 3
   },
   "file_extension": ".py",
   "mimetype": "text/x-python",
   "name": "python",
   "nbconvert_exporter": "python",
   "pygments_lexer": "ipython3",
   "version": "3.12.10"
  }
 },
 "nbformat": 4,
 "nbformat_minor": 5
}
