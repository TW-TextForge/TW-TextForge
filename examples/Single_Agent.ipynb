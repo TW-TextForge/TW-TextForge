{
 "cells": [
  {
   "cell_type": "markdown",
   "id": "7991352d",
   "metadata": {},
   "source": [
    "# LangGrpah 單代理通用"
   ]
  },
  {
   "cell_type": "markdown",
   "id": "e5f767a2",
   "metadata": {},
   "source": [
    "## 套件引入與數值初始化"
   ]
  },
  {
   "cell_type": "code",
   "execution_count": 1,
   "id": "feb53034",
   "metadata": {},
   "outputs": [],
   "source": [
    "import sys, os\n",
    "sys.path.insert(0, os.path.abspath(\"../src\"))"
   ]
  },
  {
   "cell_type": "code",
   "execution_count": null,
   "id": "70156139",
   "metadata": {},
   "outputs": [],
   "source": [
    "from tw_textforge.agent.printer import pretty_print_messages\n",
    "from tw_textforge.agent.general.single_agent_graph import GeneralSingleAgentGraph"
   ]
  },
  {
   "cell_type": "code",
   "execution_count": 3,
   "id": "c1e3672c",
   "metadata": {},
   "outputs": [
    {
     "data": {
      "image/png": "[encoded data removed]",
      "text/plain": [
       "<IPython.core.display.Image object>"
      ]
     },
     "metadata": {},
     "output_type": "display_data"
    }
   ],
   "source": [
    "generalgraph_obj = GeneralSingleAgentGraph()\n",
    "generalgraph_obj.show_graph()"
   ]
  },
  {
   "cell_type": "code",
   "execution_count": 11,
   "id": "fa2d1da7",
   "metadata": {},
   "outputs": [],
   "source": [
    "chucks = generalgraph_obj.graph.invoke(\n",
    "    {\n",
    "        \"messages\": [\n",
    "            {\n",
    "                \"role\": \"user\",\n",
    "                \"content\": \"在軟體工程中，什麼是資料庫?\",\n",
    "            }\n",
    "        ]\n",
    "    },\n",
    ")"
   ]
  },
  {
   "cell_type": "code",
   "execution_count": 12,
   "id": "5ee5b24b",
   "metadata": {},
   "outputs": [
    {
     "data": {
      "text/plain": [
       "{'messages': [HumanMessage(content='在軟體工程中，什麼是資料庫?', additional_kwargs={}, response_metadata={}, id='cc8e91a3-dc16-438f-9d61-53769bd7ec83'),\n",
       "  AIMessage(content='在軟體工程中，**資料庫**是結構化資料的被組織集合，通常存儲在電腦系統中以電子方式存取。它以允許輕鬆存取、管理和更新資料的方式組織資料。\\n\\n以下是一個更細緻的解釋：\\n\\n* **結構化數據：** 資料庫處理的通常是組織成表格的資料，表格有欄位（行）和紀錄（列）。這種結構使搜尋、排序和篩選資料變得容易。然而，隨著 NoSQL 資料庫的出現，現在也可以儲存非結構化、半結構化的資料。\\n\\n* **組織化集合：**資料不是隨意儲存的，而是一種有組織的方式，有預先定義的關係和約束。這確保了資料一致性，並便於找回相關信息。\\n\\n* **電子存取：** 資料庫建立在電腦系統上，並以電子方式存取，與紙本系統相比提供更高的效率和速度。軟體開發人員可以透過程式碼與資料庫互動，以儲存、搜尋、更新和刪除資料。\\n\\n**資料庫的主要目標：**\\n\\n* **資料管理：** 提供一種有結構的方式儲存、組織、保護和擷取資料。\\n* **資料完整性：** 確保資料的準確性、一致性和可靠性。\\n* **資料效率：** 提供高效的儲存和檢索機制。\\n* **資料安全：** 定義存取控制，並保護資料免受未經授權的存取。\\n* **並行存取：** 允許多個使用者和應用程式同時存取和修改資料，而不會導致衝突。\\n* **資料持久性：** 確保資料在系統故障、關機或重新啟動後仍然存在。\\n\\n**資料庫的類型：**\\n\\n資料庫有多種類型，每種類型都針對特定的需求和應用場景：\\n\\n* **關聯式資料庫 (SQL)：** 使用表格來儲存資料，表格之間透過預定的關係連結。它們使用結構化查詢語言 (SQL) 進行資料庫管理。範例包括 MySQL、PostgreSQL、Oracle、SQL Server 和 SQLite。它們非常適合需要強一致性和複雜關係的應用程式。\\n\\n* **NoSQL 資料庫：** 儲存非結構化或半結構化的資料。它們非常適合處理大量的資料，並提供靈活性和可擴展性。NoSQL 資料庫有幾種類型：\\n    * **文件資料庫 (Document Databases)：** 將資料儲存為類似 JSON 的文件。範例包括 MongoDB 和 Couchbase。\\n    * **索引鍵-值資料庫 (Key-Value Databases)：** 將資料儲存為索引鍵-值對。範例包括 Redis 和 Memcached。\\n    * **欄家族資料庫 (Column-Family Databases)：** 將資料儲存在欄中，而不是列中。範例包括 Cassandra 和 HBase。\\n    * **圖形資料庫 (Graph Databases)：** 儲存資料並表示節點和關係之間的關係。範例包括 Neo4j。\\n\\n* **物件導向資料庫 (Object-Oriented Databases)：** 將資料儲存為物件，就像物件導向程式設計語言一樣。\\n\\n* **圖形資料庫 (Graph Databases)：** 著重於儲存和查詢關係。它們對於社交網路、推薦引擎和知識圖等應用程式非常棒。\\n\\n* **時序資料庫 (Time-Series Databases)：** 針對時序資料做了最佳化，例如感測器資料或股票報價。\\n\\n**資料庫管理系統 (DBMS):**\\n\\n資料庫通常由資料庫管理系統 (DBMS) 管理。DBMS 是一種軟體應用程式，使用者可以透過它可以與資料庫互動。DBMS 執行諸如資料定義、資料操縱、資料安全性和資料完整性等工作。 MySQL、PostgreSQL、MongoDB 和 Oracle 等資料庫都是使用它們在後端執行的對應 DBMS 進行管理的。\\n\\n**摘要：**\\n\\n資料庫是現代軟體應用程式的重要組成部分。它們提供了一種儲存、組織和擷取資料的方式，而資料是許多應用程式的心臟。了解資料庫的概念和不同類型對於任何軟體工程師都至關重要。\\n\\n讓我總結重點：\\n\\n* **資料庫**是已組織的資料集合。\\n* **提供建構、關係和約束，**以維持一致性並促進有效檢索。\\n* **有多種類型，**專為不同的資料儲存和管理需求所設計（關聯式、NoSQL 等）。\\n* 一個 **資料庫管理系統 (DBMS)** 是一個用來與資料庫互動的軟體。\\n\\n希望對你有幫助！如果有任何疑問，請告訴我。', additional_kwargs={}, response_metadata={'prompt_feedback': {'block_reason': 0, 'safety_ratings': []}, 'finish_reason': 'STOP', 'model_name': 'gemini-2.0-flash', 'safety_ratings': []}, name='generator_agent', id='run--559990ad-9f09-4dd2-ba82-fddc84553fab-0', usage_metadata={'input_tokens': 23, 'output_tokens': 1009, 'total_tokens': 1032, 'input_token_details': {'cache_read': 0}})]}"
      ]
     },
     "execution_count": 12,
     "metadata": {},
     "output_type": "execute_result"
    }
   ],
   "source": [
    "chucks"
   ]
  },
  {
   "cell_type": "code",
   "execution_count": 13,
   "id": "5db977ee",
   "metadata": {},
   "outputs": [],
   "source": [
    "from langchain_core.messages import HumanMessage, AIMessage\n",
    "if not chucks:\n",
    "    print(\"Graph 回傳內容為空\")\n",
    "elif not isinstance(chucks[\"messages\"][0], HumanMessage):\n",
    "    print(\"Graph 回傳內容的第一個訊息不是 HumanMessage\")\n",
    "elif not isinstance(chucks[\"messages\"][-1], AIMessage):\n",
    "    print(\"Graph 回傳內容的最後一個訊息不是 AIMessage\")"
   ]
  }
 ],
 "metadata": {
  "kernelspec": {
   "display_name": "TW-Textforge",
   "language": "python",
   "name": "python3"
  },
  "language_info": {
   "codemirror_mode": {
    "name": "ipython",
    "version": 3
   },
   "file_extension": ".py",
   "mimetype": "text/x-python",
   "name": "python",
   "nbconvert_exporter": "python",
   "pygments_lexer": "ipython3",
   "version": "3.12.10"
  }
 },
 "nbformat": 4,
 "nbformat_minor": 5
}
