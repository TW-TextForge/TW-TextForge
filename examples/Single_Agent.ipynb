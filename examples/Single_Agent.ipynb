{
 "cells": [
  {
   "cell_type": "markdown",
   "id": "7991352d",
   "metadata": {},
   "source": [
    "# LangGrpah 單代理通用"
   ]
  },
  {
   "cell_type": "markdown",
   "id": "e5f767a2",
   "metadata": {},
   "source": [
    "## 套件引入與數值初始化"
   ]
  },
  {
   "cell_type": "code",
   "execution_count": 1,
   "id": "feb53034",
   "metadata": {},
   "outputs": [],
   "source": [
    "import sys, os\n",
    "sys.path.insert(0, os.path.abspath(\"../src\"))"
   ]
  },
  {
   "cell_type": "code",
   "execution_count": 2,
   "id": "70156139",
   "metadata": {},
   "outputs": [],
   "source": [
    "from tw_textforge.agent.ai_model import AIModel\n",
    "from tw_textforge.agent.printer import pretty_print_messages\n",
    "from tw_textforge.agent.general.single_agent_graph import GeneralSingleAgentGraph"
   ]
  },
  {
   "cell_type": "code",
   "execution_count": 3,
   "id": "c1e3672c",
   "metadata": {},
   "outputs": [
    {
     "data": {
      "image/png": "[encoded data removed]",
      "text/plain": [
       "<IPython.core.display.Image object>"
      ]
     },
     "metadata": {},
     "output_type": "display_data"
    }
   ],
   "source": [
    "llm = AIModel().llm\n",
    "generalgraph_obj = GeneralSingleAgentGraph(generator_llm=llm, generator_llm_tools=[])\n",
    "generalgraph_obj.show_graph()"
   ]
  },
  {
   "cell_type": "code",
   "execution_count": 4,
   "id": "fa2d1da7",
   "metadata": {},
   "outputs": [
    {
     "name": "stdout",
     "output_type": "stream",
     "text": [
      "Update from node agent:\n",
      "\n",
      "\n",
      "==================================\u001b[1m Ai Message \u001b[0m==================================\n",
      "Name: generator_agent\n",
      "\n",
      "在軟體工程中，資料庫是一個以結構化方式儲存及組織資料的系統。它允許使用者有效率地儲存、擷取、更新和管理大量資訊。你可以把它想像成一個電子化的檔案系統，但比傳統的檔案系統更強大且更有組織。\n",
      "\n",
      "以下是有關資料庫的一些重要面向：\n",
      "\n",
      "**關鍵概念：**\n",
      "\n",
      "*   **資料模型：**定義資料在資料庫中組織及關聯的方式。常見的模型包括：\n",
      "    *   **關聯式 (Relational):** 使用表格式 (rows and columns) 的結構來儲存資料，並利用關係 (例如：主鍵與外鍵) 定義資料間的關聯性。這是最常見的資料庫類型，例如 MySQL, PostgreSQL, Oracle, SQL Server。\n",
      "    *   **NoSQL (Not Only SQL):** 提供更靈活的資料模型，適合處理非結構化的資料。例如：MongoDB (文件導向), Cassandra (欄式資料庫), Redis (鍵值對)。\n",
      "    *   **物件導向 (Object-Oriented):** 將資料表示成物件的形式，類似於物件導向程式設計。\n",
      "    *   **圖形資料庫 (Graph Databases):** 強調整資料間的關係，適合處理複雜的關聯性。例如：Neo4j。\n",
      "\n",
      "*   **資料庫管理系統 (DBMS):** 是用於建立、管理和存取資料庫的軟體。它提供功能來定義結構、儲存資料、執行查詢、控制存取權限並確保資料的完整性。  常見的 DBMS 有 MySQL, PostgreSQL, MongoDB, Oracle, SQL Server 等。\n",
      "\n",
      "*   **SQL (Structured Query Language):** 是用於與關聯式資料庫互動的標準語言。用來查詢、插入、更新和刪除資料。\n",
      "\n",
      "*   **事務 (Transactions):** 是一系列的操作，這些操作被視為一個單元完成。事務保證資料庫的 ACID 屬性:\n",
      "    *   **原子性 (Atomicity):** 事務中的所有操作要么全部成功，要么全部失敗。\n",
      "    *   **一致性 (Consistency):** 事務會將資料庫從一個有效狀態轉換到另一個有效狀態。\n",
      "    *   **隔離性 (Isolation):** 並發執行的事務彼此隔離，互不干擾。\n",
      "    *   **持久性 (Durability):** 一旦事務提交，其變更將永久保存在資料庫中。\n",
      "\n",
      "**資料庫的目的：**\n",
      "\n",
      "*   **資料儲存：** 以結構化且有效率的方式儲存大量資料。\n",
      "*   **資料擷取：** 快速且準確地從資料庫中擷取特定資料。\n",
      "*   **資料管理：** 維護資料的完整性、一致性和安全性。\n",
      "*   **資料共享：**允許多個使用者和應用程式同時存取和使用資料。\n",
      "*   **資料分析：**支援複雜的查詢和報告，以便進行資料分析和決策。\n",
      "*   **保障資料長期儲存：** 提供長期儲存資料的機制，並提供備份與回復功能以防止資料遺失。\n",
      "\n",
      "**資料庫的優點：**\n",
      "\n",
      "*   **資料一致性：** 確保資料在所有應用程式中都保持一致且準確。\n",
      "*   **資料完整性：** 實施規則和約束以防止無效資料進入資料庫。\n",
      "*   **資料安全性：** 提供機制來控制資料的存取權限並保護資料免受未經授權的存取。\n",
      "*   **資料效率：** 優化資料儲存和擷取，以提高效能。\n",
      "*   **資料可擴展性：** 可以處理不斷增長的資料量和使用者需求。\n",
      "*   **並發性：**允許多個使用者同時存取和修改資料，而不會造成衝突。\n",
      "\n",
      "**使用的時機：**\n",
      "\n",
      "當你需要：\n",
      "\n",
      "*   儲存大量結構化資料。\n",
      "*   確保資料的一致性、完整性和安全性。\n",
      "*   需要高效地查詢和檢索資料。\n",
      "*   允許多個使用者同時存取和修改資料。\n",
      "*   需要持久化儲存資料，並且需要可靠的備份和回復機制。\n",
      "\n",
      "**一些常見的資料庫類型和應用：**\n",
      "\n",
      "*   **關聯式資料庫 (RDBMS):**\n",
      "    *   **應用：** 財務系統、客戶關係管理 (CRM)、產品目錄、庫存追蹤。\n",
      "    *   **例子：**MySQL, PostgreSQL, Oracle, SQL Server。\n",
      "*   **NoSQL 資料庫：**\n",
      "    *   **應用：**社交媒體、網絡應用程式、移動應用程式、物聯網 (IoT)。\n",
      "    *   **例子：**MongoDB (文件導向), Cassandra (欄式資料庫), Redis (鍵值對), Neo4j (圖形資料庫)。\n",
      "*   **資料倉庫：**\n",
      "    *   **應用：**商業智慧、分析、報告。\n",
      "    *   **例子：**Amazon Redshift, Google BigQuery, Snowflake。\n",
      "\n",
      "總之，資料庫是現代軟體系統中必不可少的組成部分，它提供了一種可靠且有效率的方式來儲存、管理和存取資料。選擇正確的資料庫類型和 DBMS 取決於應用程式的特定需求。希望這個解釋對你有幫助！\n",
      "\n",
      "\n"
     ]
    }
   ],
   "source": [
    "for chunk in generalgraph_obj.graph.stream(\n",
    "    {\n",
    "        \"messages\": [\n",
    "            {\n",
    "                \"role\": \"user\",\n",
    "                \"content\": \"在軟體工程中，什麼是資料庫?\",\n",
    "            }\n",
    "        ]\n",
    "    },\n",
    "):\n",
    "    pretty_print_messages(chunk, last_message=True)"
   ]
  },
  {
   "cell_type": "code",
   "execution_count": 5,
   "id": "b23df3c0",
   "metadata": {},
   "outputs": [
    {
     "data": {
      "text/plain": [
       "{'agent': {'messages': [AIMessage(content='在軟體工程中，資料庫是一個以結構化方式儲存及組織資料的系統。它允許使用者有效率地儲存、擷取、更新和管理大量資訊。你可以把它想像成一個電子化的檔案系統，但比傳統的檔案系統更強大且更有組織。\\n\\n以下是有關資料庫的一些重要面向：\\n\\n**關鍵概念：**\\n\\n*   **資料模型：**定義資料在資料庫中組織及關聯的方式。常見的模型包括：\\n    *   **關聯式 (Relational):** 使用表格式 (rows and columns) 的結構來儲存資料，並利用關係 (例如：主鍵與外鍵) 定義資料間的關聯性。這是最常見的資料庫類型，例如 MySQL, PostgreSQL, Oracle, SQL Server。\\n    *   **NoSQL (Not Only SQL):** 提供更靈活的資料模型，適合處理非結構化的資料。例如：MongoDB (文件導向), Cassandra (欄式資料庫), Redis (鍵值對)。\\n    *   **物件導向 (Object-Oriented):** 將資料表示成物件的形式，類似於物件導向程式設計。\\n    *   **圖形資料庫 (Graph Databases):** 強調整資料間的關係，適合處理複雜的關聯性。例如：Neo4j。\\n\\n*   **資料庫管理系統 (DBMS):** 是用於建立、管理和存取資料庫的軟體。它提供功能來定義結構、儲存資料、執行查詢、控制存取權限並確保資料的完整性。  常見的 DBMS 有 MySQL, PostgreSQL, MongoDB, Oracle, SQL Server 等。\\n\\n*   **SQL (Structured Query Language):** 是用於與關聯式資料庫互動的標準語言。用來查詢、插入、更新和刪除資料。\\n\\n*   **事務 (Transactions):** 是一系列的操作，這些操作被視為一個單元完成。事務保證資料庫的 ACID 屬性:\\n    *   **原子性 (Atomicity):** 事務中的所有操作要么全部成功，要么全部失敗。\\n    *   **一致性 (Consistency):** 事務會將資料庫從一個有效狀態轉換到另一個有效狀態。\\n    *   **隔離性 (Isolation):** 並發執行的事務彼此隔離，互不干擾。\\n    *   **持久性 (Durability):** 一旦事務提交，其變更將永久保存在資料庫中。\\n\\n**資料庫的目的：**\\n\\n*   **資料儲存：** 以結構化且有效率的方式儲存大量資料。\\n*   **資料擷取：** 快速且準確地從資料庫中擷取特定資料。\\n*   **資料管理：** 維護資料的完整性、一致性和安全性。\\n*   **資料共享：**允許多個使用者和應用程式同時存取和使用資料。\\n*   **資料分析：**支援複雜的查詢和報告，以便進行資料分析和決策。\\n*   **保障資料長期儲存：** 提供長期儲存資料的機制，並提供備份與回復功能以防止資料遺失。\\n\\n**資料庫的優點：**\\n\\n*   **資料一致性：** 確保資料在所有應用程式中都保持一致且準確。\\n*   **資料完整性：** 實施規則和約束以防止無效資料進入資料庫。\\n*   **資料安全性：** 提供機制來控制資料的存取權限並保護資料免受未經授權的存取。\\n*   **資料效率：** 優化資料儲存和擷取，以提高效能。\\n*   **資料可擴展性：** 可以處理不斷增長的資料量和使用者需求。\\n*   **並發性：**允許多個使用者同時存取和修改資料，而不會造成衝突。\\n\\n**使用的時機：**\\n\\n當你需要：\\n\\n*   儲存大量結構化資料。\\n*   確保資料的一致性、完整性和安全性。\\n*   需要高效地查詢和檢索資料。\\n*   允許多個使用者同時存取和修改資料。\\n*   需要持久化儲存資料，並且需要可靠的備份和回復機制。\\n\\n**一些常見的資料庫類型和應用：**\\n\\n*   **關聯式資料庫 (RDBMS):**\\n    *   **應用：** 財務系統、客戶關係管理 (CRM)、產品目錄、庫存追蹤。\\n    *   **例子：**MySQL, PostgreSQL, Oracle, SQL Server。\\n*   **NoSQL 資料庫：**\\n    *   **應用：**社交媒體、網絡應用程式、移動應用程式、物聯網 (IoT)。\\n    *   **例子：**MongoDB (文件導向), Cassandra (欄式資料庫), Redis (鍵值對), Neo4j (圖形資料庫)。\\n*   **資料倉庫：**\\n    *   **應用：**商業智慧、分析、報告。\\n    *   **例子：**Amazon Redshift, Google BigQuery, Snowflake。\\n\\n總之，資料庫是現代軟體系統中必不可少的組成部分，它提供了一種可靠且有效率的方式來儲存、管理和存取資料。選擇正確的資料庫類型和 DBMS 取決於應用程式的特定需求。希望這個解釋對你有幫助！', additional_kwargs={}, response_metadata={'prompt_feedback': {'block_reason': 0, 'safety_ratings': []}, 'finish_reason': 'STOP', 'model_name': 'gemini-2.0-flash', 'safety_ratings': []}, name='generator_agent', id='run--a000dec4-064c-495f-8980-e1de6e4a838c-0', usage_metadata={'input_tokens': 23, 'output_tokens': 1155, 'total_tokens': 1178, 'input_token_details': {'cache_read': 0}})]}}"
      ]
     },
     "execution_count": 5,
     "metadata": {},
     "output_type": "execute_result"
    }
   ],
   "source": [
    "chunk"
   ]
  }
 ],
 "metadata": {
  "kernelspec": {
   "display_name": "TW-Textforge",
   "language": "python",
   "name": "python3"
  },
  "language_info": {
   "codemirror_mode": {
    "name": "ipython",
    "version": 3
   },
   "file_extension": ".py",
   "mimetype": "text/x-python",
   "name": "python",
   "nbconvert_exporter": "python",
   "pygments_lexer": "ipython3",
   "version": "3.12.10"
  }
 },
 "nbformat": 4,
 "nbformat_minor": 5
}
