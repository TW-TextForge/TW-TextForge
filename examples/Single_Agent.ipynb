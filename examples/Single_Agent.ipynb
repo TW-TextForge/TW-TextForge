{
 "cells": [
  {
   "cell_type": "markdown",
   "id": "7991352d",
   "metadata": {},
   "source": [
    "# LangGrpah 單代理通用"
   ]
  },
  {
   "cell_type": "markdown",
   "id": "e5f767a2",
   "metadata": {},
   "source": [
    "## 套件引入與數值初始化"
   ]
  },
  {
   "cell_type": "code",
   "execution_count": 1,
   "id": "70156139",
   "metadata": {},
   "outputs": [],
   "source": [
    "import sys, os\n",
    "sys.path.insert(0, os.path.abspath(\"../src\"))\n",
    "from tw_textforge.agent.ai_model import AIModel\n",
    "from tw_textforge.agent.general.single_agent_graph import GeneralSingleAgentGraph"
   ]
  },
  {
   "cell_type": "code",
   "execution_count": 2,
   "id": "c1e3672c",
   "metadata": {},
   "outputs": [
    {
     "data": {
      "image/png": "[encoded data removed]",
      "text/plain": [
       "<IPython.core.display.Image object>"
      ]
     },
     "metadata": {},
     "output_type": "display_data"
    }
   ],
   "source": [
    "llm = AIModel().llm\n",
    "generalgraph_obj = GeneralSingleAgentGraph(generator_llm=llm, generator_llm_tools=[])\n",
    "generalgraph_obj.show_graph()"
   ]
  },
  {
   "cell_type": "code",
   "execution_count": 3,
   "id": "5b8a45ef",
   "metadata": {},
   "outputs": [],
   "source": [
    "from langchain_core.messages import convert_to_messages\n",
    "\n",
    "def pretty_print_message(message, indent=False):\n",
    "    pretty_message = message.pretty_repr(html=True)\n",
    "    if not indent:\n",
    "        print(pretty_message)\n",
    "        return\n",
    "\n",
    "    indented = \"\\n\".join(\"\\t\" + c for c in pretty_message.split(\"\\n\"))\n",
    "    print(indented)\n",
    "\n",
    "\n",
    "def pretty_print_messages(update, last_message=False):\n",
    "    is_subgraph = False\n",
    "    if isinstance(update, tuple):\n",
    "        ns, update = update\n",
    "        # skip parent graph updates in the printouts\n",
    "        if len(ns) == 0:\n",
    "            return\n",
    "\n",
    "        graph_id = ns[-1].split(\":\")[0]\n",
    "        print(f\"Update from subgraph {graph_id}:\")\n",
    "        print(\"\\n\")\n",
    "        is_subgraph = True\n",
    "\n",
    "    for node_name, node_update in update.items():\n",
    "        update_label = f\"Update from node {node_name}:\"\n",
    "        if is_subgraph:\n",
    "            update_label = \"\\t\" + update_label\n",
    "\n",
    "        print(update_label)\n",
    "        print(\"\\n\")\n",
    "\n",
    "        messages = convert_to_messages(node_update[\"messages\"])\n",
    "        if last_message:\n",
    "            messages = messages[-1:]\n",
    "\n",
    "        for m in messages:\n",
    "            pretty_print_message(m, indent=is_subgraph)\n",
    "        print(\"\\n\")"
   ]
  },
  {
   "cell_type": "code",
   "execution_count": 4,
   "id": "fa2d1da7",
   "metadata": {},
   "outputs": [
    {
     "name": "stdout",
     "output_type": "stream",
     "text": [
      "Update from node agent:\n",
      "\n",
      "\n",
      "==================================\u001b[1m Ai Message \u001b[0m==================================\n",
      "Name: generator_agent\n",
      "\n",
      "在軟體工程中，資料庫是指以結構化方式儲存和組織數據的工具。通常來說，資料庫是透過稱為資料庫管理系統 (DBMS) 的軟體來管理。\n",
      "\n",
      "資料庫主要有兩種：關係型資料庫 (SQL) 和非關係型資料庫 (NoSQL)。\n",
      "關係型資料庫使用表格來儲存資料，其中每一列代表一個記錄，每一列代表一個欄位。關係型資料庫使用 SQL (結構化查詢語言) 來查詢和管理資料。\n",
      "NoSQL 資料庫，或稱「Not Only SQL」資料庫，提供各種各樣的資料模型。這些資料庫是為了建構現代應用程式而開發的，這些應用程式需要靈活性、擴展性和效能。\n",
      "\n",
      "資料庫會被軟體工程師用來儲存和擷取各式各樣的資訊，從客戶資料到產品目錄。它們對於大部分的應用程式來說至關重要，因為它們提供了一種持久儲存資料的方式，而且對於這些資料提供結構化方式供工程師管理之用。\n",
      "\n",
      "\n"
     ]
    }
   ],
   "source": [
    "for chunk in generalgraph_obj.graph.stream(\n",
    "    {\n",
    "        \"messages\": [\n",
    "            {\n",
    "                \"role\": \"user\",\n",
    "                \"content\": \"在軟體工程中，什麼是資料庫?\",\n",
    "            }\n",
    "        ]\n",
    "    },\n",
    "):\n",
    "    pretty_print_messages(chunk, last_message=True)"
   ]
  },
  {
   "cell_type": "code",
   "execution_count": 5,
   "id": "b23df3c0",
   "metadata": {},
   "outputs": [
    {
     "data": {
      "text/plain": [
       "{'agent': {'messages': [AIMessage(content='在軟體工程中，資料庫是指以結構化方式儲存和組織數據的工具。通常來說，資料庫是透過稱為資料庫管理系統 (DBMS) 的軟體來管理。\\n\\n資料庫主要有兩種：關係型資料庫 (SQL) 和非關係型資料庫 (NoSQL)。\\n關係型資料庫使用表格來儲存資料，其中每一列代表一個記錄，每一列代表一個欄位。關係型資料庫使用 SQL (結構化查詢語言) 來查詢和管理資料。\\nNoSQL 資料庫，或稱「Not Only SQL」資料庫，提供各種各樣的資料模型。這些資料庫是為了建構現代應用程式而開發的，這些應用程式需要靈活性、擴展性和效能。\\n\\n資料庫會被軟體工程師用來儲存和擷取各式各樣的資訊，從客戶資料到產品目錄。它們對於大部分的應用程式來說至關重要，因為它們提供了一種持久儲存資料的方式，而且對於這些資料提供結構化方式供工程師管理之用。', additional_kwargs={}, response_metadata={'prompt_feedback': {'block_reason': 0, 'safety_ratings': []}, 'finish_reason': 'STOP', 'model_name': 'gemini-2.0-flash', 'safety_ratings': []}, name='generator_agent', id='run--3e632556-7228-4264-86ff-3d9c00b06c31-0', usage_metadata={'input_tokens': 44, 'output_tokens': 222, 'total_tokens': 266, 'input_token_details': {'cache_read': 0}})]}}"
      ]
     },
     "execution_count": 5,
     "metadata": {},
     "output_type": "execute_result"
    }
   ],
   "source": [
    "chunk"
   ]
  }
 ],
 "metadata": {
  "kernelspec": {
   "display_name": "TW-Textforge",
   "language": "python",
   "name": "python3"
  },
  "language_info": {
   "codemirror_mode": {
    "name": "ipython",
    "version": 3
   },
   "file_extension": ".py",
   "mimetype": "text/x-python",
   "name": "python",
   "nbconvert_exporter": "python",
   "pygments_lexer": "ipython3",
   "version": "3.12.10"
  }
 },
 "nbformat": 4,
 "nbformat_minor": 5
}
