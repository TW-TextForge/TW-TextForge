{
 "cells": [
  {
   "cell_type": "code",
   "execution_count": 4,
   "id": "903e31a8",
   "metadata": {},
   "outputs": [
    {
     "ename": "ImportError",
     "evalue": "cannot import name 'extract_pdf_all_text' from 'tw_textforge.utils' (/home/tsukisama9292/workspace/TW-Textforge/src/tw_textforge/utils.py)",
     "output_type": "error",
     "traceback": [
      "\u001b[31m---------------------------------------------------------------------------\u001b[39m",
      "\u001b[31mImportError\u001b[39m                               Traceback (most recent call last)",
      "\u001b[36mCell\u001b[39m\u001b[36m \u001b[39m\u001b[32mIn[4]\u001b[39m\u001b[32m, line 1\u001b[39m\n\u001b[32m----> \u001b[39m\u001b[32m1\u001b[39m \u001b[38;5;28;01mfrom\u001b[39;00m\u001b[38;5;250m \u001b[39m\u001b[34;01mtw_textforge\u001b[39;00m\u001b[34;01m.\u001b[39;00m\u001b[34;01mutils\u001b[39;00m\u001b[38;5;250m \u001b[39m\u001b[38;5;28;01mimport\u001b[39;00m extract_pdf_all_text, extract_pdf_pages\n",
      "\u001b[31mImportError\u001b[39m: cannot import name 'extract_pdf_all_text' from 'tw_textforge.utils' (/home/tsukisama9292/workspace/TW-Textforge/src/tw_textforge/utils.py)"
     ]
    }
   ],
   "source": [
    "from tw_textforge.utils import extract_pdf_all_text, extract_pdf_pages"
   ]
  },
  {
   "cell_type": "code",
   "execution_count": null,
   "id": "f0ee83f0",
   "metadata": {},
   "outputs": [],
   "source": [
    "print(extract_pdf_all_text(path=\"../data/public-domain/turing.pdf\"))"
   ]
  },
  {
   "cell_type": "code",
   "execution_count": null,
   "id": "d45f5c61",
   "metadata": {},
   "outputs": [],
   "source": [
    "for i, page in enumerate(extract_pdf_pages(path=\"../data/public-domain/turing.pdf\")):\n",
    "    print(f\"----- Page {i + 1} -----\")\n",
    "    print(page, end=\"\\n\\n\")"
   ]
  }
 ],
 "metadata": {
  "kernelspec": {
   "display_name": "tw-textforge",
   "language": "python",
   "name": "python3"
  },
  "language_info": {
   "codemirror_mode": {
    "name": "ipython",
    "version": 3
   },
   "file_extension": ".py",
   "mimetype": "text/x-python",
   "name": "python",
   "nbconvert_exporter": "python",
   "pygments_lexer": "ipython3",
   "version": "3.12.10"
  }
 },
 "nbformat": 4,
 "nbformat_minor": 5
}
